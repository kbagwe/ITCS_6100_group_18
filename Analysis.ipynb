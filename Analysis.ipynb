{
 "cells": [
  {
   "cell_type": "code",
   "execution_count": 1,
   "id": "de232b2b",
   "metadata": {},
   "outputs": [],
   "source": [
    "import pandas as pd"
   ]
  },
  {
   "cell_type": "code",
   "execution_count": 2,
   "id": "20351bc2",
   "metadata": {},
   "outputs": [],
   "source": [
    "df = pd.read_csv ('yellow_tripdata_2018-01.csv')"
   ]
  },
  {
   "cell_type": "code",
   "execution_count": null,
   "id": "ce6ccf68",
   "metadata": {},
   "outputs": [],
   "source": [
    "The following are the results from taxi data in years 2018, 2020 and 2022.\n",
    "It shows that from pre-pandemic(2018) to pandemic(2020) to post-pandemic(2022),\n",
    "the number of trips with high passenger counts have been reduced,\n",
    "indicating a downward trend in trips with large groups of people."
   ]
  },
  {
   "cell_type": "code",
   "execution_count": 6,
   "id": "6de4be49",
   "metadata": {},
   "outputs": [
    {
     "name": "stdout",
     "output_type": "stream",
     "text": [
      "passenger_count\n",
      "0      59269\n",
      "1    6248817\n",
      "2    1271615\n",
      "3     351927\n",
      "4     163571\n",
      "5     414473\n",
      "6     250115\n",
      "7         38\n",
      "8         24\n",
      "9         25\n",
      "dtype: int64\n"
     ]
    }
   ],
   "source": [
    "result = df.groupby([\"passenger_count\"]).size()\n",
    "print(result)"
   ]
  },
  {
   "cell_type": "code",
   "execution_count": 7,
   "id": "7bd56a14",
   "metadata": {},
   "outputs": [
    {
     "name": "stderr",
     "output_type": "stream",
     "text": [
      "C:\\Users\\school\\anaconda3\\lib\\site-packages\\IPython\\core\\interactiveshell.py:3444: DtypeWarning: Columns (6) have mixed types.Specify dtype option on import or set low_memory=False.\n",
      "  exec(code_obj, self.user_global_ns, self.user_ns)\n"
     ]
    },
    {
     "name": "stdout",
     "output_type": "stream",
     "text": [
      "passenger_count\n",
      "0.0     114302\n",
      "1.0    4547226\n",
      "2.0     946423\n",
      "3.0     250234\n",
      "4.0     123470\n",
      "5.0     225693\n",
      "6.0     132154\n",
      "7.0         29\n",
      "8.0         17\n",
      "9.0         19\n",
      "dtype: int64\n"
     ]
    }
   ],
   "source": [
    "df2 = pd.read_csv ('yellow_tripdata_2020-01.csv')\n",
    "result = df2.groupby([\"passenger_count\"]).size()\n",
    "print(result)"
   ]
  },
  {
   "cell_type": "code",
   "execution_count": 8,
   "id": "90c49ca9",
   "metadata": {},
   "outputs": [
    {
     "name": "stdout",
     "output_type": "stream",
     "text": [
      "passenger_count\n",
      "0.0      52061\n",
      "1.0    1794055\n",
      "2.0     343026\n",
      "3.0      84570\n",
      "4.0      35321\n",
      "5.0      51338\n",
      "6.0      32037\n",
      "7.0          9\n",
      "8.0          8\n",
      "9.0          3\n",
      "dtype: int64\n"
     ]
    }
   ],
   "source": [
    "df3 = pd.read_csv ('yellow_tripdata_2022-01.csv')\n",
    "result = df3.groupby([\"passenger_count\"]).size()\n",
    "print(result)"
   ]
  },
  {
   "cell_type": "code",
   "execution_count": null,
   "id": "1334161c",
   "metadata": {},
   "outputs": [],
   "source": [
    "The following results show that trip distances of 21 to 40 miles have been reduced over the years from 2018 to 2022.\n",
    "While distances greater than 40 remain consistent across the years."
   ]
  },
  {
   "cell_type": "code",
   "execution_count": 36,
   "id": "5c15da58",
   "metadata": {},
   "outputs": [
    {
     "name": "stdout",
     "output_type": "stream",
     "text": [
      "50447\n"
     ]
    }
   ],
   "source": [
    "result = df[df.trip_distance > 20]\n",
    "print(result.shape[0])"
   ]
  },
  {
   "cell_type": "code",
   "execution_count": 37,
   "id": "b7cc15fc",
   "metadata": {},
   "outputs": [
    {
     "name": "stdout",
     "output_type": "stream",
     "text": [
      "43138\n"
     ]
    }
   ],
   "source": [
    "result = df2[df2.trip_distance > 20]\n",
    "print(result.shape[0])"
   ]
  },
  {
   "cell_type": "code",
   "execution_count": 38,
   "id": "9c5354f6",
   "metadata": {},
   "outputs": [
    {
     "name": "stdout",
     "output_type": "stream",
     "text": [
      "21137\n"
     ]
    }
   ],
   "source": [
    "result = df3[df3.trip_distance > 20]\n",
    "print(result.shape[0])"
   ]
  },
  {
   "cell_type": "code",
   "execution_count": 39,
   "id": "62a8ed99",
   "metadata": {},
   "outputs": [
    {
     "name": "stdout",
     "output_type": "stream",
     "text": [
      "922\n"
     ]
    }
   ],
   "source": [
    "result = df[df.trip_distance > 40]\n",
    "print(result.shape[0])"
   ]
  },
  {
   "cell_type": "code",
   "execution_count": 40,
   "id": "877e01ee",
   "metadata": {},
   "outputs": [
    {
     "name": "stdout",
     "output_type": "stream",
     "text": [
      "901\n"
     ]
    }
   ],
   "source": [
    "result = df2[df2.trip_distance > 40]\n",
    "print(result.shape[0])"
   ]
  },
  {
   "cell_type": "code",
   "execution_count": 41,
   "id": "335b5c04",
   "metadata": {},
   "outputs": [
    {
     "name": "stdout",
     "output_type": "stream",
     "text": [
      "877\n"
     ]
    }
   ],
   "source": [
    "result = df3[df3.trip_distance > 40]\n",
    "print(result.shape[0])"
   ]
  }
 ],
 "metadata": {
  "kernelspec": {
   "display_name": "Python 3 (ipykernel)",
   "language": "python",
   "name": "python3"
  },
  "language_info": {
   "codemirror_mode": {
    "name": "ipython",
    "version": 3
   },
   "file_extension": ".py",
   "mimetype": "text/x-python",
   "name": "python",
   "nbconvert_exporter": "python",
   "pygments_lexer": "ipython3",
   "version": "3.9.7"
  }
 },
 "nbformat": 4,
 "nbformat_minor": 5
}
