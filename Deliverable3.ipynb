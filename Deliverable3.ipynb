{
 "cells": [
  {
   "cell_type": "code",
   "execution_count": 87,
   "metadata": {},
   "outputs": [],
   "source": [
    "import pandas as pd       \n",
    "import numpy as np       "
   ]
  },
  {
   "cell_type": "code",
   "execution_count": 86,
   "metadata": {},
   "outputs": [],
   "source": [
    "import seaborn as sns     \n",
    "sns.set()\n",
    "import matplotlib.pyplot as plt\n",
    "%matplotlib inline"
   ]
  },
  {
   "cell_type": "code",
   "execution_count": 84,
   "metadata": {},
   "outputs": [],
   "source": [
    "import datetime as dt"
   ]
  },
  {
   "cell_type": "code",
   "execution_count": 85,
   "metadata": {},
   "outputs": [],
   "source": [
    "import warnings; warnings.simplefilter('ignore')"
   ]
  },
  {
   "cell_type": "markdown",
   "metadata": {},
   "source": [
    "# Importing the DataSet"
   ]
  },
  {
   "cell_type": "code",
   "execution_count": 6,
   "metadata": {},
   "outputs": [
    {
     "name": "stdout",
     "output_type": "stream",
     "text": [
      "         VendorID tpep_pickup_datetime tpep_dropoff_datetime  passenger_count  \\\n",
      "0             1.0  2021-01-01 00:30:10   2021-01-01 00:36:12              1.0   \n",
      "1             1.0  2021-01-01 00:51:20   2021-01-01 00:52:19              1.0   \n",
      "2             1.0  2021-01-01 00:43:30   2021-01-01 01:11:06              1.0   \n",
      "3             1.0  2021-01-01 00:15:48   2021-01-01 00:31:01              0.0   \n",
      "4             2.0  2021-01-01 00:31:49   2021-01-01 00:48:21              1.0   \n",
      "...           ...                  ...                   ...              ...   \n",
      "1369760       NaN  2021-01-25 08:32:04   2021-01-25 08:49:32              NaN   \n",
      "1369761       NaN  2021-01-25 08:34:00   2021-01-25 09:04:00              NaN   \n",
      "1369762       NaN  2021-01-25 08:37:00   2021-01-25 08:53:00              NaN   \n",
      "1369763       NaN  2021-01-25 08:28:00   2021-01-25 08:50:00              NaN   \n",
      "1369764       NaN  2021-01-25 08:38:00   2021-01-25 08:50:00              NaN   \n",
      "\n",
      "         trip_distance  RatecodeID store_and_fwd_flag  PULocationID  \\\n",
      "0                 2.10         1.0                  N           142   \n",
      "1                 0.20         1.0                  N           238   \n",
      "2                14.70         1.0                  N           132   \n",
      "3                10.60         1.0                  N           138   \n",
      "4                 4.94         1.0                  N            68   \n",
      "...                ...         ...                ...           ...   \n",
      "1369760           8.80         NaN                NaN           135   \n",
      "1369761           5.86         NaN                NaN            42   \n",
      "1369762           4.45         NaN                NaN            14   \n",
      "1369763          10.04         NaN                NaN           175   \n",
      "1369764           4.93         NaN                NaN           248   \n",
      "\n",
      "         DOLocationID  payment_type  fare_amount  extra  mta_tax  tip_amount  \\\n",
      "0                  43           2.0         8.00   3.00      0.5        0.00   \n",
      "1                 151           2.0         3.00   0.50      0.5        0.00   \n",
      "2                 165           1.0        42.00   0.50      0.5        8.65   \n",
      "3                 132           1.0        29.00   0.50      0.5        6.05   \n",
      "4                  33           1.0        16.50   0.50      0.5        4.06   \n",
      "...               ...           ...          ...    ...      ...         ...   \n",
      "1369760            82           NaN        21.84   2.75      0.5        0.00   \n",
      "1369761           161           NaN        26.67   2.75      0.5        0.00   \n",
      "1369762           106           NaN        25.29   2.75      0.5        0.00   \n",
      "1369763           216           NaN        28.24   2.75      0.5        0.00   \n",
      "1369764           168           NaN        20.76   2.75      0.5        0.00   \n",
      "\n",
      "         tolls_amount  improvement_surcharge  total_amount  \\\n",
      "0                 0.0                    0.3         11.80   \n",
      "1                 0.0                    0.3          4.30   \n",
      "2                 0.0                    0.3         51.95   \n",
      "3                 0.0                    0.3         36.35   \n",
      "4                 0.0                    0.3         24.36   \n",
      "...               ...                    ...           ...   \n",
      "1369760           0.0                    0.3         25.39   \n",
      "1369761           0.0                    0.3         30.22   \n",
      "1369762           0.0                    0.3         28.84   \n",
      "1369763           0.0                    0.3         31.79   \n",
      "1369764           0.0                    0.3         24.31   \n",
      "\n",
      "         congestion_surcharge  \n",
      "0                         2.5  \n",
      "1                         0.0  \n",
      "2                         0.0  \n",
      "3                         0.0  \n",
      "4                         2.5  \n",
      "...                       ...  \n",
      "1369760                   0.0  \n",
      "1369761                   0.0  \n",
      "1369762                   0.0  \n",
      "1369763                   0.0  \n",
      "1369764                   0.0  \n",
      "\n",
      "[1369765 rows x 18 columns]\n"
     ]
    }
   ],
   "source": [
    "yellow_cab_data =pd.read_csv(\"yellow_tripdata_2021-01.csv\")\n",
    "print(yellow_cab_data)"
   ]
  },
  {
   "cell_type": "markdown",
   "metadata": {},
   "source": [
    "The data we obtained is from https://www1.nyc.gov/site/tlc/about/tlc-trip-record-data.page for year Jan 2021 and will be working with yellow cab data for timing."
   ]
  },
  {
   "cell_type": "markdown",
   "metadata": {},
   "source": [
    "The csv file is importing using pandas library and stored in yellow_cab_data variable "
   ]
  },
  {
   "cell_type": "markdown",
   "metadata": {},
   "source": [
    "# Exploring the Dataset"
   ]
  },
  {
   "cell_type": "code",
   "execution_count": 7,
   "metadata": {},
   "outputs": [
    {
     "data": {
      "text/plain": [
       "(1369765, 18)"
      ]
     },
     "execution_count": 7,
     "metadata": {},
     "output_type": "execute_result"
    }
   ],
   "source": [
    "yellow_cab_data.shape"
   ]
  },
  {
   "cell_type": "markdown",
   "metadata": {},
   "source": [
    "After shaping the dataset we figured out that there are 1369765 rows and 18 columns in the dataset "
   ]
  },
  {
   "cell_type": "code",
   "execution_count": 8,
   "metadata": {},
   "outputs": [
    {
     "data": {
      "text/plain": [
       "Index(['VendorID', 'tpep_pickup_datetime', 'tpep_dropoff_datetime',\n",
       "       'passenger_count', 'trip_distance', 'RatecodeID', 'store_and_fwd_flag',\n",
       "       'PULocationID', 'DOLocationID', 'payment_type', 'fare_amount', 'extra',\n",
       "       'mta_tax', 'tip_amount', 'tolls_amount', 'improvement_surcharge',\n",
       "       'total_amount', 'congestion_surcharge'],\n",
       "      dtype='object')"
      ]
     },
     "execution_count": 8,
     "metadata": {},
     "output_type": "execute_result"
    }
   ],
   "source": [
    "yellow_cab_data.columns"
   ]
  },
  {
   "cell_type": "code",
   "execution_count": 9,
   "metadata": {},
   "outputs": [
    {
     "data": {
      "text/plain": [
       "VendorID                 float64\n",
       "tpep_pickup_datetime      object\n",
       "tpep_dropoff_datetime     object\n",
       "passenger_count          float64\n",
       "trip_distance            float64\n",
       "RatecodeID               float64\n",
       "store_and_fwd_flag        object\n",
       "PULocationID               int64\n",
       "DOLocationID               int64\n",
       "payment_type             float64\n",
       "fare_amount              float64\n",
       "extra                    float64\n",
       "mta_tax                  float64\n",
       "tip_amount               float64\n",
       "tolls_amount             float64\n",
       "improvement_surcharge    float64\n",
       "total_amount             float64\n",
       "congestion_surcharge     float64\n",
       "dtype: object"
      ]
     },
     "execution_count": 9,
     "metadata": {},
     "output_type": "execute_result"
    }
   ],
   "source": [
    "yellow_cab_data.dtypes"
   ]
  },
  {
   "cell_type": "markdown",
   "metadata": {},
   "source": [
    "Above are the columns and their data types mentioned in the csv"
   ]
  },
  {
   "cell_type": "markdown",
   "metadata": {},
   "source": [
    "1. We have VendorID, passenger_count, trip_distance, RatecodeID, payment_type, fare_amount, extra, mta_tax, mta_tax, tolls_amount, improvement_surcharge, total_amount, congestion_surcharge as float64\n",
    "2. We have tpep_pickup_datetime and tpep_dropoff_datetime as object \n",
    "3. We have PULocationID and DOLocationID as int64"
   ]
  },
  {
   "cell_type": "markdown",
   "metadata": {},
   "source": [
    "Lets take a view of first 10 data with columns"
   ]
  },
  {
   "cell_type": "code",
   "execution_count": 10,
   "metadata": {},
   "outputs": [
    {
     "data": {
      "text/html": [
       "<div>\n",
       "<style scoped>\n",
       "    .dataframe tbody tr th:only-of-type {\n",
       "        vertical-align: middle;\n",
       "    }\n",
       "\n",
       "    .dataframe tbody tr th {\n",
       "        vertical-align: top;\n",
       "    }\n",
       "\n",
       "    .dataframe thead th {\n",
       "        text-align: right;\n",
       "    }\n",
       "</style>\n",
       "<table border=\"1\" class=\"dataframe\">\n",
       "  <thead>\n",
       "    <tr style=\"text-align: right;\">\n",
       "      <th></th>\n",
       "      <th>VendorID</th>\n",
       "      <th>tpep_pickup_datetime</th>\n",
       "      <th>tpep_dropoff_datetime</th>\n",
       "      <th>passenger_count</th>\n",
       "      <th>trip_distance</th>\n",
       "      <th>RatecodeID</th>\n",
       "      <th>store_and_fwd_flag</th>\n",
       "      <th>PULocationID</th>\n",
       "      <th>DOLocationID</th>\n",
       "      <th>payment_type</th>\n",
       "      <th>fare_amount</th>\n",
       "      <th>extra</th>\n",
       "      <th>mta_tax</th>\n",
       "      <th>tip_amount</th>\n",
       "      <th>tolls_amount</th>\n",
       "      <th>improvement_surcharge</th>\n",
       "      <th>total_amount</th>\n",
       "      <th>congestion_surcharge</th>\n",
       "    </tr>\n",
       "  </thead>\n",
       "  <tbody>\n",
       "    <tr>\n",
       "      <th>0</th>\n",
       "      <td>1.0</td>\n",
       "      <td>2021-01-01 00:30:10</td>\n",
       "      <td>2021-01-01 00:36:12</td>\n",
       "      <td>1.0</td>\n",
       "      <td>2.10</td>\n",
       "      <td>1.0</td>\n",
       "      <td>N</td>\n",
       "      <td>142</td>\n",
       "      <td>43</td>\n",
       "      <td>2.0</td>\n",
       "      <td>8.0</td>\n",
       "      <td>3.0</td>\n",
       "      <td>0.5</td>\n",
       "      <td>0.00</td>\n",
       "      <td>0.0</td>\n",
       "      <td>0.3</td>\n",
       "      <td>11.80</td>\n",
       "      <td>2.5</td>\n",
       "    </tr>\n",
       "    <tr>\n",
       "      <th>1</th>\n",
       "      <td>1.0</td>\n",
       "      <td>2021-01-01 00:51:20</td>\n",
       "      <td>2021-01-01 00:52:19</td>\n",
       "      <td>1.0</td>\n",
       "      <td>0.20</td>\n",
       "      <td>1.0</td>\n",
       "      <td>N</td>\n",
       "      <td>238</td>\n",
       "      <td>151</td>\n",
       "      <td>2.0</td>\n",
       "      <td>3.0</td>\n",
       "      <td>0.5</td>\n",
       "      <td>0.5</td>\n",
       "      <td>0.00</td>\n",
       "      <td>0.0</td>\n",
       "      <td>0.3</td>\n",
       "      <td>4.30</td>\n",
       "      <td>0.0</td>\n",
       "    </tr>\n",
       "    <tr>\n",
       "      <th>2</th>\n",
       "      <td>1.0</td>\n",
       "      <td>2021-01-01 00:43:30</td>\n",
       "      <td>2021-01-01 01:11:06</td>\n",
       "      <td>1.0</td>\n",
       "      <td>14.70</td>\n",
       "      <td>1.0</td>\n",
       "      <td>N</td>\n",
       "      <td>132</td>\n",
       "      <td>165</td>\n",
       "      <td>1.0</td>\n",
       "      <td>42.0</td>\n",
       "      <td>0.5</td>\n",
       "      <td>0.5</td>\n",
       "      <td>8.65</td>\n",
       "      <td>0.0</td>\n",
       "      <td>0.3</td>\n",
       "      <td>51.95</td>\n",
       "      <td>0.0</td>\n",
       "    </tr>\n",
       "    <tr>\n",
       "      <th>3</th>\n",
       "      <td>1.0</td>\n",
       "      <td>2021-01-01 00:15:48</td>\n",
       "      <td>2021-01-01 00:31:01</td>\n",
       "      <td>0.0</td>\n",
       "      <td>10.60</td>\n",
       "      <td>1.0</td>\n",
       "      <td>N</td>\n",
       "      <td>138</td>\n",
       "      <td>132</td>\n",
       "      <td>1.0</td>\n",
       "      <td>29.0</td>\n",
       "      <td>0.5</td>\n",
       "      <td>0.5</td>\n",
       "      <td>6.05</td>\n",
       "      <td>0.0</td>\n",
       "      <td>0.3</td>\n",
       "      <td>36.35</td>\n",
       "      <td>0.0</td>\n",
       "    </tr>\n",
       "    <tr>\n",
       "      <th>4</th>\n",
       "      <td>2.0</td>\n",
       "      <td>2021-01-01 00:31:49</td>\n",
       "      <td>2021-01-01 00:48:21</td>\n",
       "      <td>1.0</td>\n",
       "      <td>4.94</td>\n",
       "      <td>1.0</td>\n",
       "      <td>N</td>\n",
       "      <td>68</td>\n",
       "      <td>33</td>\n",
       "      <td>1.0</td>\n",
       "      <td>16.5</td>\n",
       "      <td>0.5</td>\n",
       "      <td>0.5</td>\n",
       "      <td>4.06</td>\n",
       "      <td>0.0</td>\n",
       "      <td>0.3</td>\n",
       "      <td>24.36</td>\n",
       "      <td>2.5</td>\n",
       "    </tr>\n",
       "  </tbody>\n",
       "</table>\n",
       "</div>"
      ],
      "text/plain": [
       "   VendorID tpep_pickup_datetime tpep_dropoff_datetime  passenger_count  \\\n",
       "0       1.0  2021-01-01 00:30:10   2021-01-01 00:36:12              1.0   \n",
       "1       1.0  2021-01-01 00:51:20   2021-01-01 00:52:19              1.0   \n",
       "2       1.0  2021-01-01 00:43:30   2021-01-01 01:11:06              1.0   \n",
       "3       1.0  2021-01-01 00:15:48   2021-01-01 00:31:01              0.0   \n",
       "4       2.0  2021-01-01 00:31:49   2021-01-01 00:48:21              1.0   \n",
       "\n",
       "   trip_distance  RatecodeID store_and_fwd_flag  PULocationID  DOLocationID  \\\n",
       "0           2.10         1.0                  N           142            43   \n",
       "1           0.20         1.0                  N           238           151   \n",
       "2          14.70         1.0                  N           132           165   \n",
       "3          10.60         1.0                  N           138           132   \n",
       "4           4.94         1.0                  N            68            33   \n",
       "\n",
       "   payment_type  fare_amount  extra  mta_tax  tip_amount  tolls_amount  \\\n",
       "0           2.0          8.0    3.0      0.5        0.00           0.0   \n",
       "1           2.0          3.0    0.5      0.5        0.00           0.0   \n",
       "2           1.0         42.0    0.5      0.5        8.65           0.0   \n",
       "3           1.0         29.0    0.5      0.5        6.05           0.0   \n",
       "4           1.0         16.5    0.5      0.5        4.06           0.0   \n",
       "\n",
       "   improvement_surcharge  total_amount  congestion_surcharge  \n",
       "0                    0.3         11.80                   2.5  \n",
       "1                    0.3          4.30                   0.0  \n",
       "2                    0.3         51.95                   0.0  \n",
       "3                    0.3         36.35                   0.0  \n",
       "4                    0.3         24.36                   2.5  "
      ]
     },
     "execution_count": 10,
     "metadata": {},
     "output_type": "execute_result"
    }
   ],
   "source": [
    "yellow_cab_data.head()"
   ]
  },
  {
   "cell_type": "markdown",
   "metadata": {},
   "source": [
    "This data dictionary describes yellow taxi trip data. For a dictionary describing green taxi data, or a map\n",
    "of the TLC Taxi Zones, please visit http://www.nyc.gov/html/tlc/html/about/trip_record_data.shtml. "
   ]
  },
  {
   "cell_type": "markdown",
   "metadata": {},
   "source": [
    "1. VendorID - A code indicating the TPEP provider that provided the record.\n",
    "    1= Creative Mobile Technologies, LLC; \n",
    "    2= VeriFone Inc.\n",
    "2. tpep_pickup_datetime - The date and time when the meter was engaged.\n",
    "3. tpep_dropoff_datetime - The date and time when the meter was disengaged. \n",
    "4. Passenger_count  - The number of passengers in the vehicle. This is a driver-entered value.\n",
    "5. Trip_distance - The elapsed trip distance in miles reported by the taximeter.\n",
    "6. PULocationID TLC Taxi Zone in which the taximeter was engaged.\n",
    "7. DOLocationID TLC Taxi Zone in which the taximeter was disengaged.\n",
    "8. RateCodeID - The final rate code in effect at the end of the trip. \n",
    "    1= Standard rate \n",
    "    2=JFK \n",
    "    3=Newark \n",
    "    4=Nassau or Westchester \n",
    "    5=Negotiated fare 6=Group ride\n",
    "9. Store_and_fwd_flag - This flag indicates whether the trip record was held in vehicle memory before sending to the vendor, aka “store and forward,” because the vehicle did not have a connection to the server. \n",
    "    Y= store and forward trip \n",
    "    N= not a store and forward trip\n",
    "10. Payment_type - A numeric code signifying how the passenger paid for the trip. \n",
    "    1= Credit card \n",
    "    2= Cash \n",
    "    3= No charge \n",
    "    4= Dispute \n",
    "    5= Unknown \n",
    "    6= Voided trip \n",
    "11. Fare_amount - The time-and-distance fare calculated by the meter.\n",
    "12. Extra - Miscellaneous extras and surcharges. Currently, this only includes the dollar 0.50 and dollar 1 rush hour and overnight charges. \n",
    "13. MTA_tax - dollar 0.50 MTA tax that is automatically triggered based on the metered rate in use. \n",
    "14. Improvement_surcharge - dollar 0.30 improvement surcharge assessed trips at the flag drop. The improvement surcharge began being levied in 2015. \n",
    "15. Tip_amount - Tip amount – This field is automatically populated for credit card tips. Cash tips are not included.\n",
    "16. Tolls_amount - Total amount of all tolls paid in trip.\n",
    "17. Total_amount - The total amount charged to passengers. Does not include cash tips.\n"
   ]
  },
  {
   "cell_type": "markdown",
   "metadata": {},
   "source": [
    "Since our goal is to identify trip duration and the parameter associated with it we need to first create a column name trip_duration\n",
    "\n",
    "Idenitfying the column to find trip duration\n",
    "trip_duration — duration of the trip in seconds"
   ]
  },
  {
   "cell_type": "code",
   "execution_count": 11,
   "metadata": {},
   "outputs": [
    {
     "name": "stdout",
     "output_type": "stream",
     "text": [
      "0         2021-01-01 00:30:10\n",
      "1         2021-01-01 00:51:20\n",
      "2         2021-01-01 00:43:30\n",
      "3         2021-01-01 00:15:48\n",
      "4         2021-01-01 00:31:49\n",
      "                  ...        \n",
      "1369760   2021-01-25 08:32:04\n",
      "1369761   2021-01-25 08:34:00\n",
      "1369762   2021-01-25 08:37:00\n",
      "1369763   2021-01-25 08:28:00\n",
      "1369764   2021-01-25 08:38:00\n",
      "Name: pickuptime, Length: 1369765, dtype: datetime64[ns]\n",
      "0         2021-01-01 00:36:12\n",
      "1         2021-01-01 00:52:19\n",
      "2         2021-01-01 01:11:06\n",
      "3         2021-01-01 00:31:01\n",
      "4         2021-01-01 00:48:21\n",
      "                  ...        \n",
      "1369760   2021-01-25 08:49:32\n",
      "1369761   2021-01-25 09:04:00\n",
      "1369762   2021-01-25 08:53:00\n",
      "1369763   2021-01-25 08:50:00\n",
      "1369764   2021-01-25 08:50:00\n",
      "Name: droptime, Length: 1369765, dtype: datetime64[ns]\n",
      "         VendorID tpep_pickup_datetime tpep_dropoff_datetime  passenger_count  \\\n",
      "0             1.0  2021-01-01 00:30:10   2021-01-01 00:36:12              1.0   \n",
      "1             1.0  2021-01-01 00:51:20   2021-01-01 00:52:19              1.0   \n",
      "2             1.0  2021-01-01 00:43:30   2021-01-01 01:11:06              1.0   \n",
      "3             1.0  2021-01-01 00:15:48   2021-01-01 00:31:01              0.0   \n",
      "4             2.0  2021-01-01 00:31:49   2021-01-01 00:48:21              1.0   \n",
      "...           ...                  ...                   ...              ...   \n",
      "1369760       NaN  2021-01-25 08:32:04   2021-01-25 08:49:32              NaN   \n",
      "1369761       NaN  2021-01-25 08:34:00   2021-01-25 09:04:00              NaN   \n",
      "1369762       NaN  2021-01-25 08:37:00   2021-01-25 08:53:00              NaN   \n",
      "1369763       NaN  2021-01-25 08:28:00   2021-01-25 08:50:00              NaN   \n",
      "1369764       NaN  2021-01-25 08:38:00   2021-01-25 08:50:00              NaN   \n",
      "\n",
      "         trip_distance  RatecodeID store_and_fwd_flag  PULocationID  \\\n",
      "0                 2.10         1.0                  N           142   \n",
      "1                 0.20         1.0                  N           238   \n",
      "2                14.70         1.0                  N           132   \n",
      "3                10.60         1.0                  N           138   \n",
      "4                 4.94         1.0                  N            68   \n",
      "...                ...         ...                ...           ...   \n",
      "1369760           8.80         NaN                NaN           135   \n",
      "1369761           5.86         NaN                NaN            42   \n",
      "1369762           4.45         NaN                NaN            14   \n",
      "1369763          10.04         NaN                NaN           175   \n",
      "1369764           4.93         NaN                NaN           248   \n",
      "\n",
      "         DOLocationID  payment_type  fare_amount  extra  mta_tax  tip_amount  \\\n",
      "0                  43           2.0         8.00   3.00      0.5        0.00   \n",
      "1                 151           2.0         3.00   0.50      0.5        0.00   \n",
      "2                 165           1.0        42.00   0.50      0.5        8.65   \n",
      "3                 132           1.0        29.00   0.50      0.5        6.05   \n",
      "4                  33           1.0        16.50   0.50      0.5        4.06   \n",
      "...               ...           ...          ...    ...      ...         ...   \n",
      "1369760            82           NaN        21.84   2.75      0.5        0.00   \n",
      "1369761           161           NaN        26.67   2.75      0.5        0.00   \n",
      "1369762           106           NaN        25.29   2.75      0.5        0.00   \n",
      "1369763           216           NaN        28.24   2.75      0.5        0.00   \n",
      "1369764           168           NaN        20.76   2.75      0.5        0.00   \n",
      "\n",
      "         tolls_amount  improvement_surcharge  total_amount  \\\n",
      "0                 0.0                    0.3         11.80   \n",
      "1                 0.0                    0.3          4.30   \n",
      "2                 0.0                    0.3         51.95   \n",
      "3                 0.0                    0.3         36.35   \n",
      "4                 0.0                    0.3         24.36   \n",
      "...               ...                    ...           ...   \n",
      "1369760           0.0                    0.3         25.39   \n",
      "1369761           0.0                    0.3         30.22   \n",
      "1369762           0.0                    0.3         28.84   \n",
      "1369763           0.0                    0.3         31.79   \n",
      "1369764           0.0                    0.3         24.31   \n",
      "\n",
      "         congestion_surcharge          pickuptime            droptime  \n",
      "0                         2.5 2021-01-01 00:30:10 2021-01-01 00:36:12  \n",
      "1                         0.0 2021-01-01 00:51:20 2021-01-01 00:52:19  \n",
      "2                         0.0 2021-01-01 00:43:30 2021-01-01 01:11:06  \n",
      "3                         0.0 2021-01-01 00:15:48 2021-01-01 00:31:01  \n",
      "4                         2.5 2021-01-01 00:31:49 2021-01-01 00:48:21  \n",
      "...                       ...                 ...                 ...  \n",
      "1369760                   0.0 2021-01-25 08:32:04 2021-01-25 08:49:32  \n",
      "1369761                   0.0 2021-01-25 08:34:00 2021-01-25 09:04:00  \n",
      "1369762                   0.0 2021-01-25 08:37:00 2021-01-25 08:53:00  \n",
      "1369763                   0.0 2021-01-25 08:28:00 2021-01-25 08:50:00  \n",
      "1369764                   0.0 2021-01-25 08:38:00 2021-01-25 08:50:00  \n",
      "\n",
      "[1369765 rows x 20 columns]\n"
     ]
    }
   ],
   "source": [
    "yellow_cab_data[\"pickuptime\"] = pd.to_datetime(yellow_cab_data[\"tpep_pickup_datetime\"])\n",
    "print(yellow_cab_data[\"pickuptime\"])\n",
    "yellow_cab_data[\"droptime\"] = pd.to_datetime(yellow_cab_data[\"tpep_dropoff_datetime\"])\n",
    "print(yellow_cab_data[\"droptime\"])\n",
    "print(yellow_cab_data)"
   ]
  },
  {
   "cell_type": "code",
   "execution_count": 12,
   "metadata": {},
   "outputs": [
    {
     "name": "stdout",
     "output_type": "stream",
     "text": [
      "         VendorID tpep_pickup_datetime tpep_dropoff_datetime  passenger_count  \\\n",
      "0             1.0  2021-01-01 00:30:10   2021-01-01 00:36:12              1.0   \n",
      "1             1.0  2021-01-01 00:51:20   2021-01-01 00:52:19              1.0   \n",
      "2             1.0  2021-01-01 00:43:30   2021-01-01 01:11:06              1.0   \n",
      "3             1.0  2021-01-01 00:15:48   2021-01-01 00:31:01              0.0   \n",
      "4             2.0  2021-01-01 00:31:49   2021-01-01 00:48:21              1.0   \n",
      "...           ...                  ...                   ...              ...   \n",
      "1369760       NaN  2021-01-25 08:32:04   2021-01-25 08:49:32              NaN   \n",
      "1369761       NaN  2021-01-25 08:34:00   2021-01-25 09:04:00              NaN   \n",
      "1369762       NaN  2021-01-25 08:37:00   2021-01-25 08:53:00              NaN   \n",
      "1369763       NaN  2021-01-25 08:28:00   2021-01-25 08:50:00              NaN   \n",
      "1369764       NaN  2021-01-25 08:38:00   2021-01-25 08:50:00              NaN   \n",
      "\n",
      "         trip_distance  RatecodeID store_and_fwd_flag  PULocationID  \\\n",
      "0                 2.10         1.0                  N           142   \n",
      "1                 0.20         1.0                  N           238   \n",
      "2                14.70         1.0                  N           132   \n",
      "3                10.60         1.0                  N           138   \n",
      "4                 4.94         1.0                  N            68   \n",
      "...                ...         ...                ...           ...   \n",
      "1369760           8.80         NaN                NaN           135   \n",
      "1369761           5.86         NaN                NaN            42   \n",
      "1369762           4.45         NaN                NaN            14   \n",
      "1369763          10.04         NaN                NaN           175   \n",
      "1369764           4.93         NaN                NaN           248   \n",
      "\n",
      "         DOLocationID  payment_type  ...  extra  mta_tax  tip_amount  \\\n",
      "0                  43           2.0  ...   3.00      0.5        0.00   \n",
      "1                 151           2.0  ...   0.50      0.5        0.00   \n",
      "2                 165           1.0  ...   0.50      0.5        8.65   \n",
      "3                 132           1.0  ...   0.50      0.5        6.05   \n",
      "4                  33           1.0  ...   0.50      0.5        4.06   \n",
      "...               ...           ...  ...    ...      ...         ...   \n",
      "1369760            82           NaN  ...   2.75      0.5        0.00   \n",
      "1369761           161           NaN  ...   2.75      0.5        0.00   \n",
      "1369762           106           NaN  ...   2.75      0.5        0.00   \n",
      "1369763           216           NaN  ...   2.75      0.5        0.00   \n",
      "1369764           168           NaN  ...   2.75      0.5        0.00   \n",
      "\n",
      "         tolls_amount  improvement_surcharge  total_amount  \\\n",
      "0                 0.0                    0.3         11.80   \n",
      "1                 0.0                    0.3          4.30   \n",
      "2                 0.0                    0.3         51.95   \n",
      "3                 0.0                    0.3         36.35   \n",
      "4                 0.0                    0.3         24.36   \n",
      "...               ...                    ...           ...   \n",
      "1369760           0.0                    0.3         25.39   \n",
      "1369761           0.0                    0.3         30.22   \n",
      "1369762           0.0                    0.3         28.84   \n",
      "1369763           0.0                    0.3         31.79   \n",
      "1369764           0.0                    0.3         24.31   \n",
      "\n",
      "         congestion_surcharge          pickuptime            droptime  \\\n",
      "0                         2.5 2021-01-01 00:30:10 2021-01-01 00:36:12   \n",
      "1                         0.0 2021-01-01 00:51:20 2021-01-01 00:52:19   \n",
      "2                         0.0 2021-01-01 00:43:30 2021-01-01 01:11:06   \n",
      "3                         0.0 2021-01-01 00:15:48 2021-01-01 00:31:01   \n",
      "4                         2.5 2021-01-01 00:31:49 2021-01-01 00:48:21   \n",
      "...                       ...                 ...                 ...   \n",
      "1369760                   0.0 2021-01-25 08:32:04 2021-01-25 08:49:32   \n",
      "1369761                   0.0 2021-01-25 08:34:00 2021-01-25 09:04:00   \n",
      "1369762                   0.0 2021-01-25 08:37:00 2021-01-25 08:53:00   \n",
      "1369763                   0.0 2021-01-25 08:28:00 2021-01-25 08:50:00   \n",
      "1369764                   0.0 2021-01-25 08:38:00 2021-01-25 08:50:00   \n",
      "\n",
      "          trip_duration  \n",
      "0       0 days 00:06:02  \n",
      "1       0 days 00:00:59  \n",
      "2       0 days 00:27:36  \n",
      "3       0 days 00:15:13  \n",
      "4       0 days 00:16:32  \n",
      "...                 ...  \n",
      "1369760 0 days 00:17:28  \n",
      "1369761 0 days 00:30:00  \n",
      "1369762 0 days 00:16:00  \n",
      "1369763 0 days 00:22:00  \n",
      "1369764 0 days 00:12:00  \n",
      "\n",
      "[1369765 rows x 21 columns]\n"
     ]
    }
   ],
   "source": [
    "yellow_cab_data[\"trip_duration\"] = yellow_cab_data[\"droptime\"] - yellow_cab_data[\"pickuptime\"]\n",
    "print(yellow_cab_data)"
   ]
  },
  {
   "cell_type": "markdown",
   "metadata": {},
   "source": [
    "Some observations about the data:\n",
    "\n",
    "1. The columns id and vendor_id are nominal.\n",
    "2. For better analysis, the columns pickuptime and droptime are kept as    objects that must be transformed to datetime.\n",
    "3. The column store_and_fwd_flag is categorical"
   ]
  },
  {
   "cell_type": "markdown",
   "metadata": {},
   "source": [
    "Numerical values in data "
   ]
  },
  {
   "cell_type": "code",
   "execution_count": 13,
   "metadata": {},
   "outputs": [
    {
     "data": {
      "text/html": [
       "<div>\n",
       "<style scoped>\n",
       "    .dataframe tbody tr th:only-of-type {\n",
       "        vertical-align: middle;\n",
       "    }\n",
       "\n",
       "    .dataframe tbody tr th {\n",
       "        vertical-align: top;\n",
       "    }\n",
       "\n",
       "    .dataframe thead th {\n",
       "        text-align: right;\n",
       "    }\n",
       "</style>\n",
       "<table border=\"1\" class=\"dataframe\">\n",
       "  <thead>\n",
       "    <tr style=\"text-align: right;\">\n",
       "      <th></th>\n",
       "      <th>VendorID</th>\n",
       "      <th>passenger_count</th>\n",
       "      <th>trip_distance</th>\n",
       "      <th>RatecodeID</th>\n",
       "      <th>PULocationID</th>\n",
       "      <th>DOLocationID</th>\n",
       "      <th>payment_type</th>\n",
       "      <th>fare_amount</th>\n",
       "      <th>extra</th>\n",
       "      <th>mta_tax</th>\n",
       "      <th>tip_amount</th>\n",
       "      <th>tolls_amount</th>\n",
       "      <th>improvement_surcharge</th>\n",
       "      <th>total_amount</th>\n",
       "      <th>congestion_surcharge</th>\n",
       "      <th>trip_duration</th>\n",
       "    </tr>\n",
       "  </thead>\n",
       "  <tbody>\n",
       "    <tr>\n",
       "      <th>count</th>\n",
       "      <td>1.271413e+06</td>\n",
       "      <td>1.271413e+06</td>\n",
       "      <td>1.369765e+06</td>\n",
       "      <td>1.271413e+06</td>\n",
       "      <td>1.369765e+06</td>\n",
       "      <td>1.369765e+06</td>\n",
       "      <td>1.271413e+06</td>\n",
       "      <td>1.369765e+06</td>\n",
       "      <td>1.369765e+06</td>\n",
       "      <td>1.369765e+06</td>\n",
       "      <td>1.369765e+06</td>\n",
       "      <td>1.369765e+06</td>\n",
       "      <td>1.369765e+06</td>\n",
       "      <td>1.369765e+06</td>\n",
       "      <td>1.369765e+06</td>\n",
       "      <td>1369765</td>\n",
       "    </tr>\n",
       "    <tr>\n",
       "      <th>mean</th>\n",
       "      <td>1.676925e+00</td>\n",
       "      <td>1.411508e+00</td>\n",
       "      <td>4.631982e+00</td>\n",
       "      <td>1.035081e+00</td>\n",
       "      <td>1.652472e+02</td>\n",
       "      <td>1.614956e+02</td>\n",
       "      <td>1.280521e+00</td>\n",
       "      <td>1.209662e+01</td>\n",
       "      <td>9.705085e-01</td>\n",
       "      <td>4.930411e-01</td>\n",
       "      <td>1.918099e+00</td>\n",
       "      <td>2.477432e-01</td>\n",
       "      <td>2.969412e-01</td>\n",
       "      <td>1.747439e+01</td>\n",
       "      <td>2.116098e+00</td>\n",
       "      <td>0 days 00:13:54.700953813</td>\n",
       "    </tr>\n",
       "    <tr>\n",
       "      <th>std</th>\n",
       "      <td>4.676513e-01</td>\n",
       "      <td>1.059833e+00</td>\n",
       "      <td>3.939042e+02</td>\n",
       "      <td>5.994840e-01</td>\n",
       "      <td>6.783849e+01</td>\n",
       "      <td>7.210800e+01</td>\n",
       "      <td>4.916921e-01</td>\n",
       "      <td>1.291338e+01</td>\n",
       "      <td>1.231256e+00</td>\n",
       "      <td>7.632070e-02</td>\n",
       "      <td>2.597153e+00</td>\n",
       "      <td>1.672755e+00</td>\n",
       "      <td>4.222174e-02</td>\n",
       "      <td>1.469343e+01</td>\n",
       "      <td>9.287277e-01</td>\n",
       "      <td>0 days 02:11:12.047950786</td>\n",
       "    </tr>\n",
       "    <tr>\n",
       "      <th>min</th>\n",
       "      <td>1.000000e+00</td>\n",
       "      <td>0.000000e+00</td>\n",
       "      <td>0.000000e+00</td>\n",
       "      <td>1.000000e+00</td>\n",
       "      <td>1.000000e+00</td>\n",
       "      <td>1.000000e+00</td>\n",
       "      <td>1.000000e+00</td>\n",
       "      <td>-4.900000e+02</td>\n",
       "      <td>-5.500000e+00</td>\n",
       "      <td>-5.000000e-01</td>\n",
       "      <td>-1.000000e+02</td>\n",
       "      <td>-3.112000e+01</td>\n",
       "      <td>-3.000000e-01</td>\n",
       "      <td>-4.928000e+02</td>\n",
       "      <td>-2.500000e+00</td>\n",
       "      <td>-94 days +04:35:22</td>\n",
       "    </tr>\n",
       "    <tr>\n",
       "      <th>25%</th>\n",
       "      <td>1.000000e+00</td>\n",
       "      <td>1.000000e+00</td>\n",
       "      <td>1.000000e+00</td>\n",
       "      <td>1.000000e+00</td>\n",
       "      <td>1.240000e+02</td>\n",
       "      <td>1.070000e+02</td>\n",
       "      <td>1.000000e+00</td>\n",
       "      <td>6.000000e+00</td>\n",
       "      <td>0.000000e+00</td>\n",
       "      <td>5.000000e-01</td>\n",
       "      <td>0.000000e+00</td>\n",
       "      <td>0.000000e+00</td>\n",
       "      <td>3.000000e-01</td>\n",
       "      <td>1.080000e+01</td>\n",
       "      <td>2.500000e+00</td>\n",
       "      <td>0 days 00:05:34</td>\n",
       "    </tr>\n",
       "    <tr>\n",
       "      <th>50%</th>\n",
       "      <td>2.000000e+00</td>\n",
       "      <td>1.000000e+00</td>\n",
       "      <td>1.700000e+00</td>\n",
       "      <td>1.000000e+00</td>\n",
       "      <td>1.620000e+02</td>\n",
       "      <td>1.620000e+02</td>\n",
       "      <td>1.000000e+00</td>\n",
       "      <td>8.500000e+00</td>\n",
       "      <td>0.000000e+00</td>\n",
       "      <td>5.000000e-01</td>\n",
       "      <td>1.860000e+00</td>\n",
       "      <td>0.000000e+00</td>\n",
       "      <td>3.000000e-01</td>\n",
       "      <td>1.380000e+01</td>\n",
       "      <td>2.500000e+00</td>\n",
       "      <td>0 days 00:09:04</td>\n",
       "    </tr>\n",
       "    <tr>\n",
       "      <th>75%</th>\n",
       "      <td>2.000000e+00</td>\n",
       "      <td>1.000000e+00</td>\n",
       "      <td>3.020000e+00</td>\n",
       "      <td>1.000000e+00</td>\n",
       "      <td>2.360000e+02</td>\n",
       "      <td>2.360000e+02</td>\n",
       "      <td>2.000000e+00</td>\n",
       "      <td>1.350000e+01</td>\n",
       "      <td>2.500000e+00</td>\n",
       "      <td>5.000000e-01</td>\n",
       "      <td>2.750000e+00</td>\n",
       "      <td>0.000000e+00</td>\n",
       "      <td>3.000000e-01</td>\n",
       "      <td>1.912000e+01</td>\n",
       "      <td>2.500000e+00</td>\n",
       "      <td>0 days 00:14:37</td>\n",
       "    </tr>\n",
       "    <tr>\n",
       "      <th>max</th>\n",
       "      <td>2.000000e+00</td>\n",
       "      <td>8.000000e+00</td>\n",
       "      <td>2.631633e+05</td>\n",
       "      <td>9.900000e+01</td>\n",
       "      <td>2.650000e+02</td>\n",
       "      <td>2.650000e+02</td>\n",
       "      <td>4.000000e+00</td>\n",
       "      <td>6.960500e+03</td>\n",
       "      <td>8.250000e+00</td>\n",
       "      <td>5.000000e-01</td>\n",
       "      <td>1.140440e+03</td>\n",
       "      <td>8.117500e+02</td>\n",
       "      <td>3.000000e-01</td>\n",
       "      <td>7.661280e+03</td>\n",
       "      <td>3.000000e+00</td>\n",
       "      <td>20 days 00:17:42</td>\n",
       "    </tr>\n",
       "  </tbody>\n",
       "</table>\n",
       "</div>"
      ],
      "text/plain": [
       "           VendorID  passenger_count  trip_distance    RatecodeID  \\\n",
       "count  1.271413e+06     1.271413e+06   1.369765e+06  1.271413e+06   \n",
       "mean   1.676925e+00     1.411508e+00   4.631982e+00  1.035081e+00   \n",
       "std    4.676513e-01     1.059833e+00   3.939042e+02  5.994840e-01   \n",
       "min    1.000000e+00     0.000000e+00   0.000000e+00  1.000000e+00   \n",
       "25%    1.000000e+00     1.000000e+00   1.000000e+00  1.000000e+00   \n",
       "50%    2.000000e+00     1.000000e+00   1.700000e+00  1.000000e+00   \n",
       "75%    2.000000e+00     1.000000e+00   3.020000e+00  1.000000e+00   \n",
       "max    2.000000e+00     8.000000e+00   2.631633e+05  9.900000e+01   \n",
       "\n",
       "       PULocationID  DOLocationID  payment_type   fare_amount         extra  \\\n",
       "count  1.369765e+06  1.369765e+06  1.271413e+06  1.369765e+06  1.369765e+06   \n",
       "mean   1.652472e+02  1.614956e+02  1.280521e+00  1.209662e+01  9.705085e-01   \n",
       "std    6.783849e+01  7.210800e+01  4.916921e-01  1.291338e+01  1.231256e+00   \n",
       "min    1.000000e+00  1.000000e+00  1.000000e+00 -4.900000e+02 -5.500000e+00   \n",
       "25%    1.240000e+02  1.070000e+02  1.000000e+00  6.000000e+00  0.000000e+00   \n",
       "50%    1.620000e+02  1.620000e+02  1.000000e+00  8.500000e+00  0.000000e+00   \n",
       "75%    2.360000e+02  2.360000e+02  2.000000e+00  1.350000e+01  2.500000e+00   \n",
       "max    2.650000e+02  2.650000e+02  4.000000e+00  6.960500e+03  8.250000e+00   \n",
       "\n",
       "            mta_tax    tip_amount  tolls_amount  improvement_surcharge  \\\n",
       "count  1.369765e+06  1.369765e+06  1.369765e+06           1.369765e+06   \n",
       "mean   4.930411e-01  1.918099e+00  2.477432e-01           2.969412e-01   \n",
       "std    7.632070e-02  2.597153e+00  1.672755e+00           4.222174e-02   \n",
       "min   -5.000000e-01 -1.000000e+02 -3.112000e+01          -3.000000e-01   \n",
       "25%    5.000000e-01  0.000000e+00  0.000000e+00           3.000000e-01   \n",
       "50%    5.000000e-01  1.860000e+00  0.000000e+00           3.000000e-01   \n",
       "75%    5.000000e-01  2.750000e+00  0.000000e+00           3.000000e-01   \n",
       "max    5.000000e-01  1.140440e+03  8.117500e+02           3.000000e-01   \n",
       "\n",
       "       total_amount  congestion_surcharge              trip_duration  \n",
       "count  1.369765e+06          1.369765e+06                    1369765  \n",
       "mean   1.747439e+01          2.116098e+00  0 days 00:13:54.700953813  \n",
       "std    1.469343e+01          9.287277e-01  0 days 02:11:12.047950786  \n",
       "min   -4.928000e+02         -2.500000e+00         -94 days +04:35:22  \n",
       "25%    1.080000e+01          2.500000e+00            0 days 00:05:34  \n",
       "50%    1.380000e+01          2.500000e+00            0 days 00:09:04  \n",
       "75%    1.912000e+01          2.500000e+00            0 days 00:14:37  \n",
       "max    7.661280e+03          3.000000e+00           20 days 00:17:42  "
      ]
     },
     "execution_count": 13,
     "metadata": {},
     "output_type": "execute_result"
    }
   ],
   "source": [
    "yellow_cab_data.describe()"
   ]
  },
  {
   "cell_type": "markdown",
   "metadata": {},
   "source": [
    "Identifying null values and replacing with NA or Null or 0"
   ]
  },
  {
   "cell_type": "code",
   "execution_count": 14,
   "metadata": {},
   "outputs": [
    {
     "data": {
      "text/plain": [
       "VendorID                 98352\n",
       "tpep_pickup_datetime         0\n",
       "tpep_dropoff_datetime        0\n",
       "passenger_count          98352\n",
       "trip_distance                0\n",
       "RatecodeID               98352\n",
       "store_and_fwd_flag       98352\n",
       "PULocationID                 0\n",
       "DOLocationID                 0\n",
       "payment_type             98352\n",
       "fare_amount                  0\n",
       "extra                        0\n",
       "mta_tax                      0\n",
       "tip_amount                   0\n",
       "tolls_amount                 0\n",
       "improvement_surcharge        0\n",
       "total_amount                 0\n",
       "congestion_surcharge         0\n",
       "pickuptime                   0\n",
       "droptime                     0\n",
       "trip_duration                0\n",
       "dtype: int64"
      ]
     },
     "execution_count": 14,
     "metadata": {},
     "output_type": "execute_result"
    }
   ],
   "source": [
    "yellow_cab_data.isnull().sum()"
   ]
  },
  {
   "cell_type": "code",
   "execution_count": 15,
   "metadata": {},
   "outputs": [],
   "source": [
    "data_yellow_cab = yellow_cab_data.dropna()"
   ]
  },
  {
   "cell_type": "markdown",
   "metadata": {},
   "source": [
    "Since the data consist of null values we are cleaned the data as below"
   ]
  },
  {
   "cell_type": "code",
   "execution_count": 16,
   "metadata": {},
   "outputs": [
    {
     "data": {
      "text/plain": [
       "VendorID                 0\n",
       "tpep_pickup_datetime     0\n",
       "tpep_dropoff_datetime    0\n",
       "passenger_count          0\n",
       "trip_distance            0\n",
       "RatecodeID               0\n",
       "store_and_fwd_flag       0\n",
       "PULocationID             0\n",
       "DOLocationID             0\n",
       "payment_type             0\n",
       "fare_amount              0\n",
       "extra                    0\n",
       "mta_tax                  0\n",
       "tip_amount               0\n",
       "tolls_amount             0\n",
       "improvement_surcharge    0\n",
       "total_amount             0\n",
       "congestion_surcharge     0\n",
       "pickuptime               0\n",
       "droptime                 0\n",
       "trip_duration            0\n",
       "dtype: int64"
      ]
     },
     "execution_count": 16,
     "metadata": {},
     "output_type": "execute_result"
    }
   ],
   "source": [
    "data_yellow_cab.isnull().sum()"
   ]
  },
  {
   "cell_type": "code",
   "execution_count": 17,
   "metadata": {},
   "outputs": [
    {
     "data": {
      "text/html": [
       "<div>\n",
       "<style scoped>\n",
       "    .dataframe tbody tr th:only-of-type {\n",
       "        vertical-align: middle;\n",
       "    }\n",
       "\n",
       "    .dataframe tbody tr th {\n",
       "        vertical-align: top;\n",
       "    }\n",
       "\n",
       "    .dataframe thead th {\n",
       "        text-align: right;\n",
       "    }\n",
       "</style>\n",
       "<table border=\"1\" class=\"dataframe\">\n",
       "  <thead>\n",
       "    <tr style=\"text-align: right;\">\n",
       "      <th></th>\n",
       "      <th>VendorID</th>\n",
       "      <th>passenger_count</th>\n",
       "      <th>trip_distance</th>\n",
       "      <th>RatecodeID</th>\n",
       "      <th>PULocationID</th>\n",
       "      <th>DOLocationID</th>\n",
       "      <th>payment_type</th>\n",
       "      <th>fare_amount</th>\n",
       "      <th>extra</th>\n",
       "      <th>mta_tax</th>\n",
       "      <th>tip_amount</th>\n",
       "      <th>tolls_amount</th>\n",
       "      <th>improvement_surcharge</th>\n",
       "      <th>total_amount</th>\n",
       "      <th>congestion_surcharge</th>\n",
       "      <th>trip_duration</th>\n",
       "    </tr>\n",
       "  </thead>\n",
       "  <tbody>\n",
       "    <tr>\n",
       "      <th>count</th>\n",
       "      <td>1.271413e+06</td>\n",
       "      <td>1.271413e+06</td>\n",
       "      <td>1.271413e+06</td>\n",
       "      <td>1.271413e+06</td>\n",
       "      <td>1.271413e+06</td>\n",
       "      <td>1.271413e+06</td>\n",
       "      <td>1.271413e+06</td>\n",
       "      <td>1.271413e+06</td>\n",
       "      <td>1.271413e+06</td>\n",
       "      <td>1.271413e+06</td>\n",
       "      <td>1.271413e+06</td>\n",
       "      <td>1.271413e+06</td>\n",
       "      <td>1.271413e+06</td>\n",
       "      <td>1.271413e+06</td>\n",
       "      <td>1.271413e+06</td>\n",
       "      <td>1271413</td>\n",
       "    </tr>\n",
       "    <tr>\n",
       "      <th>mean</th>\n",
       "      <td>1.676925e+00</td>\n",
       "      <td>1.411508e+00</td>\n",
       "      <td>2.695507e+00</td>\n",
       "      <td>1.035081e+00</td>\n",
       "      <td>1.663164e+02</td>\n",
       "      <td>1.635025e+02</td>\n",
       "      <td>1.280521e+00</td>\n",
       "      <td>1.101425e+01</td>\n",
       "      <td>9.828323e-01</td>\n",
       "      <td>4.928536e-01</td>\n",
       "      <td>1.939242e+00</td>\n",
       "      <td>1.786589e-01</td>\n",
       "      <td>2.967077e-01</td>\n",
       "      <td>1.642607e+01</td>\n",
       "      <td>2.239046e+00</td>\n",
       "      <td>0 days 00:13:18.759193118</td>\n",
       "    </tr>\n",
       "    <tr>\n",
       "      <th>std</th>\n",
       "      <td>4.676513e-01</td>\n",
       "      <td>1.059833e+00</td>\n",
       "      <td>1.014488e+02</td>\n",
       "      <td>5.994840e-01</td>\n",
       "      <td>6.651732e+01</td>\n",
       "      <td>7.139416e+01</td>\n",
       "      <td>4.916921e-01</td>\n",
       "      <td>1.213470e+01</td>\n",
       "      <td>1.223763e+00</td>\n",
       "      <td>7.809472e-02</td>\n",
       "      <td>2.653374e+00</td>\n",
       "      <td>1.534606e+00</td>\n",
       "      <td>4.380522e-02</td>\n",
       "      <td>1.410729e+01</td>\n",
       "      <td>7.989446e-01</td>\n",
       "      <td>0 days 02:16:04.670484823</td>\n",
       "    </tr>\n",
       "    <tr>\n",
       "      <th>min</th>\n",
       "      <td>1.000000e+00</td>\n",
       "      <td>0.000000e+00</td>\n",
       "      <td>0.000000e+00</td>\n",
       "      <td>1.000000e+00</td>\n",
       "      <td>1.000000e+00</td>\n",
       "      <td>1.000000e+00</td>\n",
       "      <td>1.000000e+00</td>\n",
       "      <td>-4.900000e+02</td>\n",
       "      <td>-5.500000e+00</td>\n",
       "      <td>-5.000000e-01</td>\n",
       "      <td>-1.000000e+02</td>\n",
       "      <td>-3.112000e+01</td>\n",
       "      <td>-3.000000e-01</td>\n",
       "      <td>-4.928000e+02</td>\n",
       "      <td>-2.500000e+00</td>\n",
       "      <td>-94 days +04:35:22</td>\n",
       "    </tr>\n",
       "    <tr>\n",
       "      <th>25%</th>\n",
       "      <td>1.000000e+00</td>\n",
       "      <td>1.000000e+00</td>\n",
       "      <td>9.800000e-01</td>\n",
       "      <td>1.000000e+00</td>\n",
       "      <td>1.320000e+02</td>\n",
       "      <td>1.070000e+02</td>\n",
       "      <td>1.000000e+00</td>\n",
       "      <td>6.000000e+00</td>\n",
       "      <td>0.000000e+00</td>\n",
       "      <td>5.000000e-01</td>\n",
       "      <td>0.000000e+00</td>\n",
       "      <td>0.000000e+00</td>\n",
       "      <td>3.000000e-01</td>\n",
       "      <td>1.056000e+01</td>\n",
       "      <td>2.500000e+00</td>\n",
       "      <td>0 days 00:05:27</td>\n",
       "    </tr>\n",
       "    <tr>\n",
       "      <th>50%</th>\n",
       "      <td>2.000000e+00</td>\n",
       "      <td>1.000000e+00</td>\n",
       "      <td>1.600000e+00</td>\n",
       "      <td>1.000000e+00</td>\n",
       "      <td>1.620000e+02</td>\n",
       "      <td>1.620000e+02</td>\n",
       "      <td>1.000000e+00</td>\n",
       "      <td>8.000000e+00</td>\n",
       "      <td>5.000000e-01</td>\n",
       "      <td>5.000000e-01</td>\n",
       "      <td>1.850000e+00</td>\n",
       "      <td>0.000000e+00</td>\n",
       "      <td>3.000000e-01</td>\n",
       "      <td>1.350000e+01</td>\n",
       "      <td>2.500000e+00</td>\n",
       "      <td>0 days 00:08:45</td>\n",
       "    </tr>\n",
       "    <tr>\n",
       "      <th>75%</th>\n",
       "      <td>2.000000e+00</td>\n",
       "      <td>1.000000e+00</td>\n",
       "      <td>2.790000e+00</td>\n",
       "      <td>1.000000e+00</td>\n",
       "      <td>2.360000e+02</td>\n",
       "      <td>2.360000e+02</td>\n",
       "      <td>2.000000e+00</td>\n",
       "      <td>1.200000e+01</td>\n",
       "      <td>2.500000e+00</td>\n",
       "      <td>5.000000e-01</td>\n",
       "      <td>2.700000e+00</td>\n",
       "      <td>0.000000e+00</td>\n",
       "      <td>3.000000e-01</td>\n",
       "      <td>1.780000e+01</td>\n",
       "      <td>2.500000e+00</td>\n",
       "      <td>0 days 00:13:47</td>\n",
       "    </tr>\n",
       "    <tr>\n",
       "      <th>max</th>\n",
       "      <td>2.000000e+00</td>\n",
       "      <td>8.000000e+00</td>\n",
       "      <td>1.143282e+05</td>\n",
       "      <td>9.900000e+01</td>\n",
       "      <td>2.650000e+02</td>\n",
       "      <td>2.650000e+02</td>\n",
       "      <td>4.000000e+00</td>\n",
       "      <td>6.960500e+03</td>\n",
       "      <td>7.000000e+00</td>\n",
       "      <td>5.000000e-01</td>\n",
       "      <td>1.140440e+03</td>\n",
       "      <td>8.117500e+02</td>\n",
       "      <td>3.000000e-01</td>\n",
       "      <td>7.661280e+03</td>\n",
       "      <td>3.000000e+00</td>\n",
       "      <td>20 days 00:17:42</td>\n",
       "    </tr>\n",
       "  </tbody>\n",
       "</table>\n",
       "</div>"
      ],
      "text/plain": [
       "           VendorID  passenger_count  trip_distance    RatecodeID  \\\n",
       "count  1.271413e+06     1.271413e+06   1.271413e+06  1.271413e+06   \n",
       "mean   1.676925e+00     1.411508e+00   2.695507e+00  1.035081e+00   \n",
       "std    4.676513e-01     1.059833e+00   1.014488e+02  5.994840e-01   \n",
       "min    1.000000e+00     0.000000e+00   0.000000e+00  1.000000e+00   \n",
       "25%    1.000000e+00     1.000000e+00   9.800000e-01  1.000000e+00   \n",
       "50%    2.000000e+00     1.000000e+00   1.600000e+00  1.000000e+00   \n",
       "75%    2.000000e+00     1.000000e+00   2.790000e+00  1.000000e+00   \n",
       "max    2.000000e+00     8.000000e+00   1.143282e+05  9.900000e+01   \n",
       "\n",
       "       PULocationID  DOLocationID  payment_type   fare_amount         extra  \\\n",
       "count  1.271413e+06  1.271413e+06  1.271413e+06  1.271413e+06  1.271413e+06   \n",
       "mean   1.663164e+02  1.635025e+02  1.280521e+00  1.101425e+01  9.828323e-01   \n",
       "std    6.651732e+01  7.139416e+01  4.916921e-01  1.213470e+01  1.223763e+00   \n",
       "min    1.000000e+00  1.000000e+00  1.000000e+00 -4.900000e+02 -5.500000e+00   \n",
       "25%    1.320000e+02  1.070000e+02  1.000000e+00  6.000000e+00  0.000000e+00   \n",
       "50%    1.620000e+02  1.620000e+02  1.000000e+00  8.000000e+00  5.000000e-01   \n",
       "75%    2.360000e+02  2.360000e+02  2.000000e+00  1.200000e+01  2.500000e+00   \n",
       "max    2.650000e+02  2.650000e+02  4.000000e+00  6.960500e+03  7.000000e+00   \n",
       "\n",
       "            mta_tax    tip_amount  tolls_amount  improvement_surcharge  \\\n",
       "count  1.271413e+06  1.271413e+06  1.271413e+06           1.271413e+06   \n",
       "mean   4.928536e-01  1.939242e+00  1.786589e-01           2.967077e-01   \n",
       "std    7.809472e-02  2.653374e+00  1.534606e+00           4.380522e-02   \n",
       "min   -5.000000e-01 -1.000000e+02 -3.112000e+01          -3.000000e-01   \n",
       "25%    5.000000e-01  0.000000e+00  0.000000e+00           3.000000e-01   \n",
       "50%    5.000000e-01  1.850000e+00  0.000000e+00           3.000000e-01   \n",
       "75%    5.000000e-01  2.700000e+00  0.000000e+00           3.000000e-01   \n",
       "max    5.000000e-01  1.140440e+03  8.117500e+02           3.000000e-01   \n",
       "\n",
       "       total_amount  congestion_surcharge              trip_duration  \n",
       "count  1.271413e+06          1.271413e+06                    1271413  \n",
       "mean   1.642607e+01          2.239046e+00  0 days 00:13:18.759193118  \n",
       "std    1.410729e+01          7.989446e-01  0 days 02:16:04.670484823  \n",
       "min   -4.928000e+02         -2.500000e+00         -94 days +04:35:22  \n",
       "25%    1.056000e+01          2.500000e+00            0 days 00:05:27  \n",
       "50%    1.350000e+01          2.500000e+00            0 days 00:08:45  \n",
       "75%    1.780000e+01          2.500000e+00            0 days 00:13:47  \n",
       "max    7.661280e+03          3.000000e+00           20 days 00:17:42  "
      ]
     },
     "execution_count": 17,
     "metadata": {},
     "output_type": "execute_result"
    }
   ],
   "source": [
    "data_yellow_cab.describe()"
   ]
  },
  {
   "cell_type": "code",
   "execution_count": 18,
   "metadata": {},
   "outputs": [
    {
     "name": "stdout",
     "output_type": "stream",
     "text": [
      "         VendorID tpep_pickup_datetime tpep_dropoff_datetime  passenger_count  \\\n",
      "0             1.0  2021-01-01 00:30:10   2021-01-01 00:36:12              1.0   \n",
      "1             1.0  2021-01-01 00:51:20   2021-01-01 00:52:19              1.0   \n",
      "2             1.0  2021-01-01 00:43:30   2021-01-01 01:11:06              1.0   \n",
      "3             1.0  2021-01-01 00:15:48   2021-01-01 00:31:01              0.0   \n",
      "4             2.0  2021-01-01 00:31:49   2021-01-01 00:48:21              1.0   \n",
      "...           ...                  ...                   ...              ...   \n",
      "1271408       2.0  2021-01-31 23:58:47   2021-02-01 00:04:40              3.0   \n",
      "1271409       2.0  2021-01-31 23:07:54   2021-01-31 23:19:42              1.0   \n",
      "1271410       2.0  2021-01-31 23:30:45   2021-01-31 23:35:13              1.0   \n",
      "1271411       2.0  2021-01-31 23:09:52   2021-01-31 23:51:56              2.0   \n",
      "1271412       2.0  2021-01-31 23:26:15   2021-01-31 23:33:48              2.0   \n",
      "\n",
      "         trip_distance  RatecodeID store_and_fwd_flag  PULocationID  \\\n",
      "0                 2.10         1.0                  N           142   \n",
      "1                 0.20         1.0                  N           238   \n",
      "2                14.70         1.0                  N           132   \n",
      "3                10.60         1.0                  N           138   \n",
      "4                 4.94         1.0                  N            68   \n",
      "...                ...         ...                ...           ...   \n",
      "1271408           0.81         1.0                  N            41   \n",
      "1271409           3.81         1.0                  N           113   \n",
      "1271410           1.32         1.0                  N           233   \n",
      "1271411          10.56         1.0                  N            56   \n",
      "1271412           1.93         1.0                  N           230   \n",
      "\n",
      "         DOLocationID  payment_type  ...  extra  mta_tax  tip_amount  \\\n",
      "0                  43           2.0  ...    3.0      0.5        0.00   \n",
      "1                 151           2.0  ...    0.5      0.5        0.00   \n",
      "2                 165           1.0  ...    0.5      0.5        8.65   \n",
      "3                 132           1.0  ...    0.5      0.5        6.05   \n",
      "4                  33           1.0  ...    0.5      0.5        4.06   \n",
      "...               ...           ...  ...    ...      ...         ...   \n",
      "1271408            74           2.0  ...    0.5      0.5        0.00   \n",
      "1271409           141           2.0  ...    0.5      0.5        0.00   \n",
      "1271410           237           2.0  ...    0.5      0.5        0.00   \n",
      "1271411            68           1.0  ...    0.5      0.5        0.00   \n",
      "1271412           229           1.0  ...    0.5      0.5        2.26   \n",
      "\n",
      "         tolls_amount  improvement_surcharge  total_amount  \\\n",
      "0                0.00                    0.3         11.80   \n",
      "1                0.00                    0.3          4.30   \n",
      "2                0.00                    0.3         51.95   \n",
      "3                0.00                    0.3         36.35   \n",
      "4                0.00                    0.3         24.36   \n",
      "...               ...                    ...           ...   \n",
      "1271408          0.00                    0.3          6.30   \n",
      "1271409          0.00                    0.3         16.30   \n",
      "1271410          0.00                    0.3          9.80   \n",
      "1271411          6.12                    0.3         44.92   \n",
      "1271412          0.00                    0.3         13.56   \n",
      "\n",
      "         congestion_surcharge          pickuptime            droptime  \\\n",
      "0                         2.5 2021-01-01 00:30:10 2021-01-01 00:36:12   \n",
      "1                         0.0 2021-01-01 00:51:20 2021-01-01 00:52:19   \n",
      "2                         0.0 2021-01-01 00:43:30 2021-01-01 01:11:06   \n",
      "3                         0.0 2021-01-01 00:15:48 2021-01-01 00:31:01   \n",
      "4                         2.5 2021-01-01 00:31:49 2021-01-01 00:48:21   \n",
      "...                       ...                 ...                 ...   \n",
      "1271408                   0.0 2021-01-31 23:58:47 2021-02-01 00:04:40   \n",
      "1271409                   2.5 2021-01-31 23:07:54 2021-01-31 23:19:42   \n",
      "1271410                   2.5 2021-01-31 23:30:45 2021-01-31 23:35:13   \n",
      "1271411                   0.0 2021-01-31 23:09:52 2021-01-31 23:51:56   \n",
      "1271412                   2.5 2021-01-31 23:26:15 2021-01-31 23:33:48   \n",
      "\n",
      "          trip_duration  \n",
      "0       0 days 00:06:02  \n",
      "1       0 days 00:00:59  \n",
      "2       0 days 00:27:36  \n",
      "3       0 days 00:15:13  \n",
      "4       0 days 00:16:32  \n",
      "...                 ...  \n",
      "1271408 0 days 00:05:53  \n",
      "1271409 0 days 00:11:48  \n",
      "1271410 0 days 00:04:28  \n",
      "1271411 0 days 00:42:04  \n",
      "1271412 0 days 00:07:33  \n",
      "\n",
      "[1271413 rows x 21 columns]\n"
     ]
    }
   ],
   "source": [
    "print(data_yellow_cab)"
   ]
  },
  {
   "cell_type": "markdown",
   "metadata": {},
   "source": [
    "There are no null values in this dataset, therefore we can skip the imputing phase."
   ]
  },
  {
   "cell_type": "markdown",
   "metadata": {},
   "source": [
    "Checking unique values of all columns"
   ]
  },
  {
   "cell_type": "code",
   "execution_count": 19,
   "metadata": {},
   "outputs": [
    {
     "data": {
      "text/plain": [
       "VendorID                      2\n",
       "tpep_pickup_datetime     900085\n",
       "tpep_dropoff_datetime    900337\n",
       "passenger_count               9\n",
       "trip_distance              3570\n",
       "RatecodeID                    7\n",
       "store_and_fwd_flag            2\n",
       "PULocationID                256\n",
       "DOLocationID                260\n",
       "payment_type                  4\n",
       "fare_amount                1279\n",
       "extra                        19\n",
       "mta_tax                       3\n",
       "tip_amount                 2038\n",
       "tolls_amount                264\n",
       "improvement_surcharge         3\n",
       "total_amount               6322\n",
       "congestion_surcharge          5\n",
       "pickuptime               900085\n",
       "droptime                 900337\n",
       "trip_duration              6845\n",
       "dtype: int64"
      ]
     },
     "execution_count": 19,
     "metadata": {},
     "output_type": "execute_result"
    }
   ],
   "source": [
    "data_yellow_cab.nunique()"
   ]
  },
  {
   "cell_type": "markdown",
   "metadata": {},
   "source": [
    "We see that tpep_pickup_datetime and  tpep_dropoff_datetime has 900337 unique values which are equal to the number of rows in our dataset.\n",
    "There are 2 unique vendor ids.\n",
    "There are 9 unique passenger counts.\n",
    "There are 2 unique values for store_and_fwd_flag, "
   ]
  },
  {
   "cell_type": "markdown",
   "metadata": {},
   "source": [
    "Finally, let's look for a statistical overview of our data.\n",
    "Please keep in mind that this function can only offer statistics for numerical characteristics."
   ]
  },
  {
   "cell_type": "code",
   "execution_count": 20,
   "metadata": {},
   "outputs": [
    {
     "data": {
      "text/html": [
       "<div>\n",
       "<style scoped>\n",
       "    .dataframe tbody tr th:only-of-type {\n",
       "        vertical-align: middle;\n",
       "    }\n",
       "\n",
       "    .dataframe tbody tr th {\n",
       "        vertical-align: top;\n",
       "    }\n",
       "\n",
       "    .dataframe thead th {\n",
       "        text-align: right;\n",
       "    }\n",
       "</style>\n",
       "<table border=\"1\" class=\"dataframe\">\n",
       "  <thead>\n",
       "    <tr style=\"text-align: right;\">\n",
       "      <th></th>\n",
       "      <th>VendorID</th>\n",
       "      <th>passenger_count</th>\n",
       "      <th>trip_distance</th>\n",
       "      <th>RatecodeID</th>\n",
       "      <th>PULocationID</th>\n",
       "      <th>DOLocationID</th>\n",
       "      <th>payment_type</th>\n",
       "      <th>fare_amount</th>\n",
       "      <th>extra</th>\n",
       "      <th>mta_tax</th>\n",
       "      <th>tip_amount</th>\n",
       "      <th>tolls_amount</th>\n",
       "      <th>improvement_surcharge</th>\n",
       "      <th>total_amount</th>\n",
       "      <th>congestion_surcharge</th>\n",
       "      <th>trip_duration</th>\n",
       "    </tr>\n",
       "  </thead>\n",
       "  <tbody>\n",
       "    <tr>\n",
       "      <th>count</th>\n",
       "      <td>1.271413e+06</td>\n",
       "      <td>1.271413e+06</td>\n",
       "      <td>1.271413e+06</td>\n",
       "      <td>1.271413e+06</td>\n",
       "      <td>1.271413e+06</td>\n",
       "      <td>1.271413e+06</td>\n",
       "      <td>1.271413e+06</td>\n",
       "      <td>1.271413e+06</td>\n",
       "      <td>1.271413e+06</td>\n",
       "      <td>1.271413e+06</td>\n",
       "      <td>1.271413e+06</td>\n",
       "      <td>1.271413e+06</td>\n",
       "      <td>1.271413e+06</td>\n",
       "      <td>1.271413e+06</td>\n",
       "      <td>1.271413e+06</td>\n",
       "      <td>1271413</td>\n",
       "    </tr>\n",
       "    <tr>\n",
       "      <th>mean</th>\n",
       "      <td>1.676925e+00</td>\n",
       "      <td>1.411508e+00</td>\n",
       "      <td>2.695507e+00</td>\n",
       "      <td>1.035081e+00</td>\n",
       "      <td>1.663164e+02</td>\n",
       "      <td>1.635025e+02</td>\n",
       "      <td>1.280521e+00</td>\n",
       "      <td>1.101425e+01</td>\n",
       "      <td>9.828323e-01</td>\n",
       "      <td>4.928536e-01</td>\n",
       "      <td>1.939242e+00</td>\n",
       "      <td>1.786589e-01</td>\n",
       "      <td>2.967077e-01</td>\n",
       "      <td>1.642607e+01</td>\n",
       "      <td>2.239046e+00</td>\n",
       "      <td>0 days 00:13:18.759193118</td>\n",
       "    </tr>\n",
       "    <tr>\n",
       "      <th>std</th>\n",
       "      <td>4.676513e-01</td>\n",
       "      <td>1.059833e+00</td>\n",
       "      <td>1.014488e+02</td>\n",
       "      <td>5.994840e-01</td>\n",
       "      <td>6.651732e+01</td>\n",
       "      <td>7.139416e+01</td>\n",
       "      <td>4.916921e-01</td>\n",
       "      <td>1.213470e+01</td>\n",
       "      <td>1.223763e+00</td>\n",
       "      <td>7.809472e-02</td>\n",
       "      <td>2.653374e+00</td>\n",
       "      <td>1.534606e+00</td>\n",
       "      <td>4.380522e-02</td>\n",
       "      <td>1.410729e+01</td>\n",
       "      <td>7.989446e-01</td>\n",
       "      <td>0 days 02:16:04.670484823</td>\n",
       "    </tr>\n",
       "    <tr>\n",
       "      <th>min</th>\n",
       "      <td>1.000000e+00</td>\n",
       "      <td>0.000000e+00</td>\n",
       "      <td>0.000000e+00</td>\n",
       "      <td>1.000000e+00</td>\n",
       "      <td>1.000000e+00</td>\n",
       "      <td>1.000000e+00</td>\n",
       "      <td>1.000000e+00</td>\n",
       "      <td>-4.900000e+02</td>\n",
       "      <td>-5.500000e+00</td>\n",
       "      <td>-5.000000e-01</td>\n",
       "      <td>-1.000000e+02</td>\n",
       "      <td>-3.112000e+01</td>\n",
       "      <td>-3.000000e-01</td>\n",
       "      <td>-4.928000e+02</td>\n",
       "      <td>-2.500000e+00</td>\n",
       "      <td>-94 days +04:35:22</td>\n",
       "    </tr>\n",
       "    <tr>\n",
       "      <th>25%</th>\n",
       "      <td>1.000000e+00</td>\n",
       "      <td>1.000000e+00</td>\n",
       "      <td>9.800000e-01</td>\n",
       "      <td>1.000000e+00</td>\n",
       "      <td>1.320000e+02</td>\n",
       "      <td>1.070000e+02</td>\n",
       "      <td>1.000000e+00</td>\n",
       "      <td>6.000000e+00</td>\n",
       "      <td>0.000000e+00</td>\n",
       "      <td>5.000000e-01</td>\n",
       "      <td>0.000000e+00</td>\n",
       "      <td>0.000000e+00</td>\n",
       "      <td>3.000000e-01</td>\n",
       "      <td>1.056000e+01</td>\n",
       "      <td>2.500000e+00</td>\n",
       "      <td>0 days 00:05:27</td>\n",
       "    </tr>\n",
       "    <tr>\n",
       "      <th>50%</th>\n",
       "      <td>2.000000e+00</td>\n",
       "      <td>1.000000e+00</td>\n",
       "      <td>1.600000e+00</td>\n",
       "      <td>1.000000e+00</td>\n",
       "      <td>1.620000e+02</td>\n",
       "      <td>1.620000e+02</td>\n",
       "      <td>1.000000e+00</td>\n",
       "      <td>8.000000e+00</td>\n",
       "      <td>5.000000e-01</td>\n",
       "      <td>5.000000e-01</td>\n",
       "      <td>1.850000e+00</td>\n",
       "      <td>0.000000e+00</td>\n",
       "      <td>3.000000e-01</td>\n",
       "      <td>1.350000e+01</td>\n",
       "      <td>2.500000e+00</td>\n",
       "      <td>0 days 00:08:45</td>\n",
       "    </tr>\n",
       "    <tr>\n",
       "      <th>75%</th>\n",
       "      <td>2.000000e+00</td>\n",
       "      <td>1.000000e+00</td>\n",
       "      <td>2.790000e+00</td>\n",
       "      <td>1.000000e+00</td>\n",
       "      <td>2.360000e+02</td>\n",
       "      <td>2.360000e+02</td>\n",
       "      <td>2.000000e+00</td>\n",
       "      <td>1.200000e+01</td>\n",
       "      <td>2.500000e+00</td>\n",
       "      <td>5.000000e-01</td>\n",
       "      <td>2.700000e+00</td>\n",
       "      <td>0.000000e+00</td>\n",
       "      <td>3.000000e-01</td>\n",
       "      <td>1.780000e+01</td>\n",
       "      <td>2.500000e+00</td>\n",
       "      <td>0 days 00:13:47</td>\n",
       "    </tr>\n",
       "    <tr>\n",
       "      <th>max</th>\n",
       "      <td>2.000000e+00</td>\n",
       "      <td>8.000000e+00</td>\n",
       "      <td>1.143282e+05</td>\n",
       "      <td>9.900000e+01</td>\n",
       "      <td>2.650000e+02</td>\n",
       "      <td>2.650000e+02</td>\n",
       "      <td>4.000000e+00</td>\n",
       "      <td>6.960500e+03</td>\n",
       "      <td>7.000000e+00</td>\n",
       "      <td>5.000000e-01</td>\n",
       "      <td>1.140440e+03</td>\n",
       "      <td>8.117500e+02</td>\n",
       "      <td>3.000000e-01</td>\n",
       "      <td>7.661280e+03</td>\n",
       "      <td>3.000000e+00</td>\n",
       "      <td>20 days 00:17:42</td>\n",
       "    </tr>\n",
       "  </tbody>\n",
       "</table>\n",
       "</div>"
      ],
      "text/plain": [
       "           VendorID  passenger_count  trip_distance    RatecodeID  \\\n",
       "count  1.271413e+06     1.271413e+06   1.271413e+06  1.271413e+06   \n",
       "mean   1.676925e+00     1.411508e+00   2.695507e+00  1.035081e+00   \n",
       "std    4.676513e-01     1.059833e+00   1.014488e+02  5.994840e-01   \n",
       "min    1.000000e+00     0.000000e+00   0.000000e+00  1.000000e+00   \n",
       "25%    1.000000e+00     1.000000e+00   9.800000e-01  1.000000e+00   \n",
       "50%    2.000000e+00     1.000000e+00   1.600000e+00  1.000000e+00   \n",
       "75%    2.000000e+00     1.000000e+00   2.790000e+00  1.000000e+00   \n",
       "max    2.000000e+00     8.000000e+00   1.143282e+05  9.900000e+01   \n",
       "\n",
       "       PULocationID  DOLocationID  payment_type   fare_amount         extra  \\\n",
       "count  1.271413e+06  1.271413e+06  1.271413e+06  1.271413e+06  1.271413e+06   \n",
       "mean   1.663164e+02  1.635025e+02  1.280521e+00  1.101425e+01  9.828323e-01   \n",
       "std    6.651732e+01  7.139416e+01  4.916921e-01  1.213470e+01  1.223763e+00   \n",
       "min    1.000000e+00  1.000000e+00  1.000000e+00 -4.900000e+02 -5.500000e+00   \n",
       "25%    1.320000e+02  1.070000e+02  1.000000e+00  6.000000e+00  0.000000e+00   \n",
       "50%    1.620000e+02  1.620000e+02  1.000000e+00  8.000000e+00  5.000000e-01   \n",
       "75%    2.360000e+02  2.360000e+02  2.000000e+00  1.200000e+01  2.500000e+00   \n",
       "max    2.650000e+02  2.650000e+02  4.000000e+00  6.960500e+03  7.000000e+00   \n",
       "\n",
       "            mta_tax    tip_amount  tolls_amount  improvement_surcharge  \\\n",
       "count  1.271413e+06  1.271413e+06  1.271413e+06           1.271413e+06   \n",
       "mean   4.928536e-01  1.939242e+00  1.786589e-01           2.967077e-01   \n",
       "std    7.809472e-02  2.653374e+00  1.534606e+00           4.380522e-02   \n",
       "min   -5.000000e-01 -1.000000e+02 -3.112000e+01          -3.000000e-01   \n",
       "25%    5.000000e-01  0.000000e+00  0.000000e+00           3.000000e-01   \n",
       "50%    5.000000e-01  1.850000e+00  0.000000e+00           3.000000e-01   \n",
       "75%    5.000000e-01  2.700000e+00  0.000000e+00           3.000000e-01   \n",
       "max    5.000000e-01  1.140440e+03  8.117500e+02           3.000000e-01   \n",
       "\n",
       "       total_amount  congestion_surcharge              trip_duration  \n",
       "count  1.271413e+06          1.271413e+06                    1271413  \n",
       "mean   1.642607e+01          2.239046e+00  0 days 00:13:18.759193118  \n",
       "std    1.410729e+01          7.989446e-01  0 days 02:16:04.670484823  \n",
       "min   -4.928000e+02         -2.500000e+00         -94 days +04:35:22  \n",
       "25%    1.056000e+01          2.500000e+00            0 days 00:05:27  \n",
       "50%    1.350000e+01          2.500000e+00            0 days 00:08:45  \n",
       "75%    1.780000e+01          2.500000e+00            0 days 00:13:47  \n",
       "max    7.661280e+03          3.000000e+00           20 days 00:17:42  "
      ]
     },
     "execution_count": 20,
     "metadata": {},
     "output_type": "execute_result"
    }
   ],
   "source": [
    "data_yellow_cab.describe()"
   ]
  },
  {
   "cell_type": "markdown",
   "metadata": {},
   "source": [
    "The lowest value for vendor id is 1 and the highest number is 2, which makes logical given that there are two vendor ids 1 and 2.\n",
    "The passenger count has a minimum of 1, and max is 8\n",
    "The minimum trip duration is likewise pretty short. We'll return to this topic later in Univariate Analysis.  "
   ]
  },
  {
   "cell_type": "markdown",
   "metadata": {},
   "source": [
    "# Feature Scaling and Creation"
   ]
  },
  {
   "cell_type": "markdown",
   "metadata": {},
   "source": [
    "Let's make some additional features out of the current variables to get more information out of the data.\n",
    "Remember that both  tpep pickup datetime and tpep_dropoff_datetime were object types.\n",
    "If we wish to use this information, we can convert it to a datetime object, which has a number of functions that we can use to develop additional features, which we shall see shortly."
   ]
  },
  {
   "cell_type": "code",
   "execution_count": 21,
   "metadata": {},
   "outputs": [],
   "source": [
    "data_yellow_cab['pickuptime_datetime']=pd.to_datetime(data_yellow_cab['tpep_pickup_datetime'])\n",
    "data_yellow_cab['droptime_datetime']=pd.to_datetime(data_yellow_cab['tpep_dropoff_datetime'])"
   ]
  },
  {
   "cell_type": "code",
   "execution_count": 22,
   "metadata": {},
   "outputs": [
    {
     "data": {
      "text/plain": [
       "VendorID                         float64\n",
       "tpep_pickup_datetime              object\n",
       "tpep_dropoff_datetime             object\n",
       "passenger_count                  float64\n",
       "trip_distance                    float64\n",
       "RatecodeID                       float64\n",
       "store_and_fwd_flag                object\n",
       "PULocationID                       int64\n",
       "DOLocationID                       int64\n",
       "payment_type                     float64\n",
       "fare_amount                      float64\n",
       "extra                            float64\n",
       "mta_tax                          float64\n",
       "tip_amount                       float64\n",
       "tolls_amount                     float64\n",
       "improvement_surcharge            float64\n",
       "total_amount                     float64\n",
       "congestion_surcharge             float64\n",
       "pickuptime                datetime64[ns]\n",
       "droptime                  datetime64[ns]\n",
       "trip_duration            timedelta64[ns]\n",
       "pickuptime_datetime       datetime64[ns]\n",
       "droptime_datetime         datetime64[ns]\n",
       "dtype: object"
      ]
     },
     "execution_count": 22,
     "metadata": {},
     "output_type": "execute_result"
    }
   ],
   "source": [
    "data_yellow_cab.dtypes"
   ]
  },
  {
   "cell_type": "code",
   "execution_count": 23,
   "metadata": {},
   "outputs": [],
   "source": [
    "data_yellow_cab['pickup_day']=data_yellow_cab['pickuptime_datetime'].dt.day_name()\n",
    "data_yellow_cab['dropoff_day']=data_yellow_cab['droptime_datetime'].dt.day_name()"
   ]
  },
  {
   "cell_type": "code",
   "execution_count": 24,
   "metadata": {},
   "outputs": [],
   "source": [
    "data_yellow_cab['pickup_day_no']=data_yellow_cab['pickuptime_datetime'].dt.weekday\n",
    "data_yellow_cab['dropoff_day_no']=data_yellow_cab['droptime_datetime'].dt.weekday"
   ]
  },
  {
   "cell_type": "code",
   "execution_count": 25,
   "metadata": {},
   "outputs": [],
   "source": [
    "data_yellow_cab['pickup_hour']=data_yellow_cab['pickuptime_datetime'].dt.hour\n",
    "data_yellow_cab['dropoff_hour']=data_yellow_cab['droptime_datetime'].dt.hour"
   ]
  },
  {
   "cell_type": "code",
   "execution_count": 26,
   "metadata": {},
   "outputs": [],
   "source": [
    "data_yellow_cab['pickup_month']=data_yellow_cab['pickuptime_datetime'].dt.month\n",
    "data_yellow_cab['dropoff_month']=data_yellow_cab['droptime_datetime'].dt.month"
   ]
  },
  {
   "cell_type": "code",
   "execution_count": 27,
   "metadata": {},
   "outputs": [
    {
     "name": "stdout",
     "output_type": "stream",
     "text": [
      "         VendorID tpep_pickup_datetime tpep_dropoff_datetime  passenger_count  \\\n",
      "0             1.0  2021-01-01 00:30:10   2021-01-01 00:36:12              1.0   \n",
      "1             1.0  2021-01-01 00:51:20   2021-01-01 00:52:19              1.0   \n",
      "2             1.0  2021-01-01 00:43:30   2021-01-01 01:11:06              1.0   \n",
      "3             1.0  2021-01-01 00:15:48   2021-01-01 00:31:01              0.0   \n",
      "4             2.0  2021-01-01 00:31:49   2021-01-01 00:48:21              1.0   \n",
      "...           ...                  ...                   ...              ...   \n",
      "1271408       2.0  2021-01-31 23:58:47   2021-02-01 00:04:40              3.0   \n",
      "1271409       2.0  2021-01-31 23:07:54   2021-01-31 23:19:42              1.0   \n",
      "1271410       2.0  2021-01-31 23:30:45   2021-01-31 23:35:13              1.0   \n",
      "1271411       2.0  2021-01-31 23:09:52   2021-01-31 23:51:56              2.0   \n",
      "1271412       2.0  2021-01-31 23:26:15   2021-01-31 23:33:48              2.0   \n",
      "\n",
      "         trip_distance  RatecodeID store_and_fwd_flag  PULocationID  \\\n",
      "0                 2.10         1.0                  N           142   \n",
      "1                 0.20         1.0                  N           238   \n",
      "2                14.70         1.0                  N           132   \n",
      "3                10.60         1.0                  N           138   \n",
      "4                 4.94         1.0                  N            68   \n",
      "...                ...         ...                ...           ...   \n",
      "1271408           0.81         1.0                  N            41   \n",
      "1271409           3.81         1.0                  N           113   \n",
      "1271410           1.32         1.0                  N           233   \n",
      "1271411          10.56         1.0                  N            56   \n",
      "1271412           1.93         1.0                  N           230   \n",
      "\n",
      "         DOLocationID  payment_type  ...  pickuptime_datetime  \\\n",
      "0                  43           2.0  ...  2021-01-01 00:30:10   \n",
      "1                 151           2.0  ...  2021-01-01 00:51:20   \n",
      "2                 165           1.0  ...  2021-01-01 00:43:30   \n",
      "3                 132           1.0  ...  2021-01-01 00:15:48   \n",
      "4                  33           1.0  ...  2021-01-01 00:31:49   \n",
      "...               ...           ...  ...                  ...   \n",
      "1271408            74           2.0  ...  2021-01-31 23:58:47   \n",
      "1271409           141           2.0  ...  2021-01-31 23:07:54   \n",
      "1271410           237           2.0  ...  2021-01-31 23:30:45   \n",
      "1271411            68           1.0  ...  2021-01-31 23:09:52   \n",
      "1271412           229           1.0  ...  2021-01-31 23:26:15   \n",
      "\n",
      "          droptime_datetime  pickup_day  dropoff_day  pickup_day_no  \\\n",
      "0       2021-01-01 00:36:12      Friday       Friday              4   \n",
      "1       2021-01-01 00:52:19      Friday       Friday              4   \n",
      "2       2021-01-01 01:11:06      Friday       Friday              4   \n",
      "3       2021-01-01 00:31:01      Friday       Friday              4   \n",
      "4       2021-01-01 00:48:21      Friday       Friday              4   \n",
      "...                     ...         ...          ...            ...   \n",
      "1271408 2021-02-01 00:04:40      Sunday       Monday              6   \n",
      "1271409 2021-01-31 23:19:42      Sunday       Sunday              6   \n",
      "1271410 2021-01-31 23:35:13      Sunday       Sunday              6   \n",
      "1271411 2021-01-31 23:51:56      Sunday       Sunday              6   \n",
      "1271412 2021-01-31 23:33:48      Sunday       Sunday              6   \n",
      "\n",
      "         dropoff_day_no  pickup_hour  dropoff_hour pickup_month dropoff_month  \n",
      "0                     4            0             0            1             1  \n",
      "1                     4            0             0            1             1  \n",
      "2                     4            0             1            1             1  \n",
      "3                     4            0             0            1             1  \n",
      "4                     4            0             0            1             1  \n",
      "...                 ...          ...           ...          ...           ...  \n",
      "1271408               0           23             0            1             2  \n",
      "1271409               6           23            23            1             1  \n",
      "1271410               6           23            23            1             1  \n",
      "1271411               6           23            23            1             1  \n",
      "1271412               6           23            23            1             1  \n",
      "\n",
      "[1271413 rows x 31 columns]\n"
     ]
    }
   ],
   "source": [
    "print(data_yellow_cab)"
   ]
  },
  {
   "cell_type": "markdown",
   "metadata": {},
   "source": [
    "The following features were developed:\n",
    "\n",
    "The terms pickup day and dropoff day refer to the days on which the ride was taken.\n",
    "With Monday=0 and Sunday=6, pickup day no and dropoff day no will have the day number instead of characters.\n",
    "pickup hour and dropoff hour are both 24-hour formats with an hour of the day.\n",
    "January=1 and December=12 for pickup month and dropoff month, respectively.\n",
    "After that, I created a function that allows us to identify what time of day the ride occurred. 'Morning' (from 6:00 am to 11:59 pm), 'Afternoon' (from 12 noon to 3:59 pm), 'Evening' (from 4:00 pm to 9:59 pm), and 'Late Night' (from 4:00 pm to 9:59 pm) are the four time zones I've established (from 10:00 pm to 5:59 am)"
   ]
  },
  {
   "cell_type": "code",
   "execution_count": 28,
   "metadata": {},
   "outputs": [],
   "source": [
    "def timeday(x):\n",
    "    if x in range(6,12):\n",
    "        return 'Morning'\n",
    "    elif x in range(12,16):\n",
    "        return 'Afternoon'\n",
    "    elif x in range(16,22):\n",
    "        return 'Evening'\n",
    "    else:\n",
    "        return 'Late night'"
   ]
  },
  {
   "cell_type": "markdown",
   "metadata": {},
   "source": [
    "Applying new function to new columns created in the dataset"
   ]
  },
  {
   "cell_type": "code",
   "execution_count": 29,
   "metadata": {},
   "outputs": [],
   "source": [
    "data_yellow_cab['pickup_timeofday']=data_yellow_cab['pickup_hour'].apply(timeday)\n",
    "data_yellow_cab['dropoff_timeofday']=data_yellow_cab['dropoff_hour'].apply(timeday)"
   ]
  },
  {
   "cell_type": "code",
   "execution_count": 30,
   "metadata": {},
   "outputs": [
    {
     "name": "stdout",
     "output_type": "stream",
     "text": [
      "         VendorID tpep_pickup_datetime tpep_dropoff_datetime  passenger_count  \\\n",
      "0             1.0  2021-01-01 00:30:10   2021-01-01 00:36:12              1.0   \n",
      "1             1.0  2021-01-01 00:51:20   2021-01-01 00:52:19              1.0   \n",
      "2             1.0  2021-01-01 00:43:30   2021-01-01 01:11:06              1.0   \n",
      "3             1.0  2021-01-01 00:15:48   2021-01-01 00:31:01              0.0   \n",
      "4             2.0  2021-01-01 00:31:49   2021-01-01 00:48:21              1.0   \n",
      "...           ...                  ...                   ...              ...   \n",
      "1271408       2.0  2021-01-31 23:58:47   2021-02-01 00:04:40              3.0   \n",
      "1271409       2.0  2021-01-31 23:07:54   2021-01-31 23:19:42              1.0   \n",
      "1271410       2.0  2021-01-31 23:30:45   2021-01-31 23:35:13              1.0   \n",
      "1271411       2.0  2021-01-31 23:09:52   2021-01-31 23:51:56              2.0   \n",
      "1271412       2.0  2021-01-31 23:26:15   2021-01-31 23:33:48              2.0   \n",
      "\n",
      "         trip_distance  RatecodeID store_and_fwd_flag  PULocationID  \\\n",
      "0                 2.10         1.0                  N           142   \n",
      "1                 0.20         1.0                  N           238   \n",
      "2                14.70         1.0                  N           132   \n",
      "3                10.60         1.0                  N           138   \n",
      "4                 4.94         1.0                  N            68   \n",
      "...                ...         ...                ...           ...   \n",
      "1271408           0.81         1.0                  N            41   \n",
      "1271409           3.81         1.0                  N           113   \n",
      "1271410           1.32         1.0                  N           233   \n",
      "1271411          10.56         1.0                  N            56   \n",
      "1271412           1.93         1.0                  N           230   \n",
      "\n",
      "         DOLocationID  payment_type  ...  pickup_day  dropoff_day  \\\n",
      "0                  43           2.0  ...      Friday       Friday   \n",
      "1                 151           2.0  ...      Friday       Friday   \n",
      "2                 165           1.0  ...      Friday       Friday   \n",
      "3                 132           1.0  ...      Friday       Friday   \n",
      "4                  33           1.0  ...      Friday       Friday   \n",
      "...               ...           ...  ...         ...          ...   \n",
      "1271408            74           2.0  ...      Sunday       Monday   \n",
      "1271409           141           2.0  ...      Sunday       Sunday   \n",
      "1271410           237           2.0  ...      Sunday       Sunday   \n",
      "1271411            68           1.0  ...      Sunday       Sunday   \n",
      "1271412           229           1.0  ...      Sunday       Sunday   \n",
      "\n",
      "         pickup_day_no  dropoff_day_no  pickup_hour  dropoff_hour  \\\n",
      "0                    4               4            0             0   \n",
      "1                    4               4            0             0   \n",
      "2                    4               4            0             1   \n",
      "3                    4               4            0             0   \n",
      "4                    4               4            0             0   \n",
      "...                ...             ...          ...           ...   \n",
      "1271408              6               0           23             0   \n",
      "1271409              6               6           23            23   \n",
      "1271410              6               6           23            23   \n",
      "1271411              6               6           23            23   \n",
      "1271412              6               6           23            23   \n",
      "\n",
      "         pickup_month  dropoff_month pickup_timeofday dropoff_timeofday  \n",
      "0                   1              1       Late night        Late night  \n",
      "1                   1              1       Late night        Late night  \n",
      "2                   1              1       Late night        Late night  \n",
      "3                   1              1       Late night        Late night  \n",
      "4                   1              1       Late night        Late night  \n",
      "...               ...            ...              ...               ...  \n",
      "1271408             1              2       Late night        Late night  \n",
      "1271409             1              1       Late night        Late night  \n",
      "1271410             1              1       Late night        Late night  \n",
      "1271411             1              1       Late night        Late night  \n",
      "1271412             1              1       Late night        Late night  \n",
      "\n",
      "[1271413 rows x 33 columns]\n"
     ]
    }
   ],
   "source": [
    "print(data_yellow_cab)"
   ]
  },
  {
   "cell_type": "markdown",
   "metadata": {},
   "source": [
    "# Univariate Analysis"
   ]
  },
  {
   "cell_type": "markdown",
   "metadata": {},
   "source": [
    "The univariate analysis involves studying patterns of all variables individually."
   ]
  },
  {
   "cell_type": "code",
   "execution_count": 31,
   "metadata": {},
   "outputs": [
    {
     "data": {
      "text/plain": [
       "<AxesSubplot:xlabel='trip_duration', ylabel='Count'>"
      ]
     },
     "execution_count": 31,
     "metadata": {},
     "output_type": "execute_result"
    },
    {
     "data": {
      "image/png": "[encoded data removed]",
      "text/plain": [
       "<Figure size 432x288 with 1 Axes>"
      ]
     },
     "metadata": {
      "needs_background": "light"
     },
     "output_type": "display_data"
    }
   ],
   "source": [
    "sns.histplot(data_yellow_cab['trip_duration'].astype('timedelta64[s]'),kde=False,bins=20)"
   ]
  },
  {
   "cell_type": "code",
   "execution_count": 32,
   "metadata": {},
   "outputs": [
    {
     "data": {
      "text/plain": [
       "<AxesSubplot:ylabel='Frequency'>"
      ]
     },
     "execution_count": 32,
     "metadata": {},
     "output_type": "execute_result"
    },
    {
     "data": {
      "image/png": "[encoded data removed]",
      "text/plain": [
       "<Figure size 432x288 with 1 Axes>"
      ]
     },
     "metadata": {
      "needs_background": "light"
     },
     "output_type": "display_data"
    }
   ],
   "source": [
    "data_yellow_cab['trip_duration'].astype('timedelta64[s]').plot.hist()"
   ]
  },
  {
   "cell_type": "code",
   "execution_count": 33,
   "metadata": {},
   "outputs": [
    {
     "data": {
      "text/plain": [
       "<AxesSubplot:ylabel='Frequency'>"
      ]
     },
     "execution_count": 33,
     "metadata": {},
     "output_type": "execute_result"
    },
    {
     "data": {
      "image/png": "[encoded data removed]",
      "text/plain": [
       "<Figure size 432x288 with 1 Axes>"
      ]
     },
     "metadata": {
      "needs_background": "light"
     },
     "output_type": "display_data"
    }
   ],
   "source": [
    "(data_yellow_cab['trip_duration'].astype('timedelta64[s]') / 60).plot.hist()"
   ]
  },
  {
   "cell_type": "code",
   "execution_count": 34,
   "metadata": {},
   "outputs": [
    {
     "data": {
      "text/plain": [
       "<AxesSubplot:ylabel='Frequency'>"
      ]
     },
     "execution_count": 34,
     "metadata": {},
     "output_type": "execute_result"
    },
    {
     "data": {
      "image/png": "[encoded data removed]",
      "text/plain": [
       "<Figure size 432x288 with 1 Axes>"
      ]
     },
     "metadata": {
      "needs_background": "light"
     },
     "output_type": "display_data"
    }
   ],
   "source": [
    "data_yellow_cab['trip_duration'].astype('timedelta64[m]').plot.hist()"
   ]
  },
  {
   "cell_type": "code",
   "execution_count": 35,
   "metadata": {},
   "outputs": [
    {
     "data": {
      "text/plain": [
       "<AxesSubplot:>"
      ]
     },
     "execution_count": 35,
     "metadata": {},
     "output_type": "execute_result"
    },
    {
     "data": {
      "image/png": "[encoded data removed]",
      "text/plain": [
       "<Figure size 432x288 with 1 Axes>"
      ]
     },
     "metadata": {
      "needs_background": "light"
     },
     "output_type": "display_data"
    }
   ],
   "source": [
    "data_yellow_cab['trip_duration'].dt.days.hist()"
   ]
  },
  {
   "cell_type": "code",
   "execution_count": 36,
   "metadata": {},
   "outputs": [
    {
     "data": {
      "text/plain": [
       "(array([1.00000e+00, 0.00000e+00, 0.00000e+00, 0.00000e+00, 0.00000e+00,\n",
       "        0.00000e+00, 0.00000e+00, 0.00000e+00, 0.00000e+00, 0.00000e+00,\n",
       "        0.00000e+00, 0.00000e+00, 0.00000e+00, 0.00000e+00, 0.00000e+00,\n",
       "        0.00000e+00, 1.27141e+06, 1.00000e+00, 0.00000e+00, 1.00000e+00]),\n",
       " array([-135084.63333333, -126889.51666667, -118694.4       ,\n",
       "        -110499.28333333, -102304.16666667,  -94109.05      ,\n",
       "         -85913.93333333,  -77718.81666667,  -69523.7       ,\n",
       "         -61328.58333333,  -53133.46666667,  -44938.35      ,\n",
       "         -36743.23333333,  -28548.11666667,  -20353.        ,\n",
       "         -12157.88333333,   -3962.76666667,    4232.35      ,\n",
       "          12427.46666667,   20622.58333333,   28817.7       ]),\n",
       " <BarContainer object of 20 artists>)"
      ]
     },
     "execution_count": 36,
     "metadata": {},
     "output_type": "execute_result"
    },
    {
     "data": {
      "image/png": "[encoded data removed]",
      "text/plain": [
       "<Figure size 432x288 with 1 Axes>"
      ]
     },
     "metadata": {
      "needs_background": "light"
     },
     "output_type": "display_data"
    }
   ],
   "source": [
    "plt.hist(data_yellow_cab['trip_duration']/pd.Timedelta(minutes=1), bins=20)"
   ]
  },
  {
   "cell_type": "markdown",
   "metadata": {},
   "source": [
    "We are getting really skewed histogram"
   ]
  },
  {
   "cell_type": "code",
   "execution_count": 37,
   "metadata": {},
   "outputs": [
    {
     "data": {
      "text/plain": [
       "302612      20 days 00:17:42\n",
       "344032       3 days 01:39:07\n",
       "591780       1 days 11:53:36\n",
       "750652       1 days 08:19:27\n",
       "601204       0 days 23:59:59\n",
       "                 ...        \n",
       "196436       0 days 00:00:00\n",
       "1226560      0 days 00:00:00\n",
       "1012072      0 days 00:00:00\n",
       "151936     -1 days +23:55:47\n",
       "556106    -94 days +04:35:22\n",
       "Name: trip_duration, Length: 1271413, dtype: timedelta64[ns]"
      ]
     },
     "execution_count": 37,
     "metadata": {},
     "output_type": "execute_result"
    }
   ],
   "source": [
    "data_yellow_cab['trip_duration'].sort_values(ascending=False)"
   ]
  },
  {
   "cell_type": "markdown",
   "metadata": {},
   "source": [
    "OUTLIER CAN BE EASILY VISIBLE"
   ]
  },
  {
   "cell_type": "markdown",
   "metadata": {},
   "source": [
    "See we see alot of outlier we are not using this column anymore"
   ]
  },
  {
   "cell_type": "code",
   "execution_count": 38,
   "metadata": {},
   "outputs": [
    {
     "data": {
      "text/plain": [
       "Text(0.5, 1.0, 'The distribution of of the pickup  Duration distribution')"
      ]
     },
     "execution_count": 38,
     "metadata": {},
     "output_type": "execute_result"
    },
    {
     "data": {
      "image/png": "[encoded data removed]",
      "text/plain": [
       "<Figure size 432x288 with 1 Axes>"
      ]
     },
     "metadata": {
      "needs_background": "light"
     },
     "output_type": "display_data"
    }
   ],
   "source": [
    "sns.distplot(data_yellow_cab['trip_duration'],kde=False)\n",
    "plt.title('The distribution of of the pickup  Duration distribution')"
   ]
  },
  {
   "cell_type": "markdown",
   "metadata": {},
   "source": [
    "The histogram (since data is huge kindly click after the ppt otherwise it will take some time)\n",
    "display right skewness which is extreme proving the outlier "
   ]
  },
  {
   "cell_type": "markdown",
   "metadata": {},
   "source": [
    "The highest figure is much higher than the second and third highest trip time values. This might be due to data gathering mistakes, or it could be legitimate information. Because such a large value is unlikely to occur, this row should be dropped before further research."
   ]
  },
  {
   "cell_type": "code",
   "execution_count": 40,
   "metadata": {},
   "outputs": [
    {
     "name": "stdout",
     "output_type": "stream",
     "text": [
      "302612   20 days 00:17:42\n",
      "344032    3 days 01:39:07\n",
      "591780    1 days 11:53:36\n",
      "750652    1 days 08:19:27\n",
      "601204    0 days 23:59:59\n",
      "346721    0 days 23:59:58\n",
      "33224     0 days 23:59:54\n",
      "484855    0 days 23:59:53\n",
      "743404    0 days 23:59:37\n",
      "221688    0 days 23:59:29\n",
      "Name: trip_duration, dtype: timedelta64[ns]\n"
     ]
    }
   ],
   "source": [
    "print(data_yellow_cab['trip_duration'].nlargest(10))"
   ]
  },
  {
   "cell_type": "markdown",
   "metadata": {},
   "source": [
    "The value can be replaced by the mode or median of trip duration as well."
   ]
  },
  {
   "cell_type": "code",
   "execution_count": 60,
   "metadata": {},
   "outputs": [],
   "source": [
    "data_yellow_cab_td=data_yellow_cab[data_yellow_cab.trip_duration!=data_yellow_cab.trip_duration.max()]"
   ]
  },
  {
   "cell_type": "markdown",
   "metadata": {},
   "source": [
    "Lets take a look after we dropped the outlier "
   ]
  },
  {
   "cell_type": "code",
   "execution_count": 62,
   "metadata": {},
   "outputs": [
    {
     "data": {
      "text/plain": [
       "Text(0.5, 1.0, 'Trip duration after outlier')"
      ]
     },
     "execution_count": 62,
     "metadata": {},
     "output_type": "execute_result"
    },
    {
     "data": {
      "image/png": "[encoded data removed]",
      "text/plain": [
       "<Figure size 432x288 with 1 Axes>"
      ]
     },
     "metadata": {
      "needs_background": "light"
     },
     "output_type": "display_data"
    }
   ],
   "source": [
    "sns.distplot(data_yellow_cab_td['trip_duration'])\n",
    "plt.title('Trip duration after outlier')"
   ]
  },
  {
   "cell_type": "markdown",
   "metadata": {},
   "source": [
    "Since there are still extreme right skewness we have divided the trip duration into 5 intervals\n",
    "The intervals are decided as follows:\n",
    "\n",
    "    1.less than 5 hours\n",
    "    2.5–10 hours\n",
    "    3.10–15 hours\n",
    "    4.15–20 hours\n",
    "    5.more than 20 hours"
   ]
  },
  {
   "cell_type": "code",
   "execution_count": 64,
   "metadata": {},
   "outputs": [],
   "source": [
    "bins=np.array([0,1800,3600,5400,7200,90000])\n",
    "data_yellow_cab_td['duration_time']=pd.cut(data_yellow_cab_td.trip_duration.astype('timedelta64[s]'),bins,labels=[\"< 5\", \"5-10\", \"10-15\",\"15-20\",\">20\"])"
   ]
  },
  {
   "cell_type": "code",
   "execution_count": 65,
   "metadata": {},
   "outputs": [
    {
     "name": "stdout",
     "output_type": "stream",
     "text": [
      "0           < 5\n",
      "1           < 5\n",
      "2           < 5\n",
      "3           < 5\n",
      "4           < 5\n",
      "           ... \n",
      "1271408     < 5\n",
      "1271409     < 5\n",
      "1271410     < 5\n",
      "1271411    5-10\n",
      "1271412     < 5\n",
      "Name: duration_time, Length: 1271412, dtype: category\n",
      "Categories (5, object): ['< 5' < '5-10' < '10-15' < '15-20' < '>20']\n"
     ]
    }
   ],
   "source": [
    "print(data_yellow_cab_td['duration_time'])"
   ]
  },
  {
   "cell_type": "markdown",
   "metadata": {},
   "source": [
    "\n",
    "# VENDOR ID "
   ]
  },
  {
   "cell_type": "code",
   "execution_count": 66,
   "metadata": {},
   "outputs": [
    {
     "data": {
      "text/plain": [
       "<AxesSubplot:xlabel='VendorID', ylabel='count'>"
      ]
     },
     "execution_count": 66,
     "metadata": {},
     "output_type": "execute_result"
    },
    {
     "data": {
      "image/png": "[encoded data removed]",
      "text/plain": [
       "<Figure size 432x288 with 1 Axes>"
      ]
     },
     "metadata": {
      "needs_background": "light"
     },
     "output_type": "display_data"
    }
   ],
   "source": [
    "sns.countplot(x='VendorID',data=data_yellow_cab_td)"
   ]
  },
  {
   "cell_type": "markdown",
   "metadata": {},
   "source": [
    "As we can see there is a difference of more than 200000 trips taken by both vendor"
   ]
  },
  {
   "cell_type": "markdown",
   "metadata": {},
   "source": [
    "# Passenger Count"
   ]
  },
  {
   "cell_type": "code",
   "execution_count": 68,
   "metadata": {},
   "outputs": [
    {
     "data": {
      "text/plain": [
       "1.0    966232\n",
       "2.0    161670\n",
       "3.0     43935\n",
       "5.0     31089\n",
       "0.0     26726\n",
       "6.0     25362\n",
       "4.0     16391\n",
       "7.0         5\n",
       "8.0         2\n",
       "Name: passenger_count, dtype: int64"
      ]
     },
     "execution_count": 68,
     "metadata": {},
     "output_type": "execute_result"
    }
   ],
   "source": [
    "data_yellow_cab_td.passenger_count.value_counts()"
   ]
  },
  {
   "cell_type": "markdown",
   "metadata": {},
   "source": [
    "1. There are mny trips taken by single passengers compare to more than one passenger number \n",
    "2. There are only 5 trip taken by 7 passangers together and 2 trips taken by 8 passengers together "
   ]
  },
  {
   "cell_type": "code",
   "execution_count": 69,
   "metadata": {},
   "outputs": [
    {
     "data": {
      "text/plain": [
       "<AxesSubplot:xlabel='passenger_count', ylabel='count'>"
      ]
     },
     "execution_count": 69,
     "metadata": {},
     "output_type": "execute_result"
    },
    {
     "data": {
      "image/png": "[encoded data removed]",
      "text/plain": [
       "<Figure size 432x288 with 1 Axes>"
      ]
     },
     "metadata": {
      "needs_background": "light"
     },
     "output_type": "display_data"
    }
   ],
   "source": [
    "sns.countplot(x='passenger_count',data=data_yellow_cab_td)"
   ]
  },
  {
   "cell_type": "markdown",
   "metadata": {},
   "source": [
    "There are some trip with 0 passanger which is an incorrect data or driver has purposely added it to complete a trip \n",
    "We see the highest amount of trips are with 1 passenger.\n",
    "Let us remove the rows which have 0 or 7 or 8passenger count."
   ]
  },
  {
   "cell_type": "code",
   "execution_count": 70,
   "metadata": {},
   "outputs": [],
   "source": [
    "data_yellow_cab_new = data_yellow_cab_td[data_yellow_cab_td['passenger_count']!=0]"
   ]
  },
  {
   "cell_type": "code",
   "execution_count": 71,
   "metadata": {},
   "outputs": [],
   "source": [
    "data_yellow_cab_new = data_yellow_cab_td[data_yellow_cab_td['passenger_count']<=6]"
   ]
  },
  {
   "cell_type": "code",
   "execution_count": 72,
   "metadata": {},
   "outputs": [
    {
     "data": {
      "text/plain": [
       "1.0    966232\n",
       "2.0    161670\n",
       "3.0     43935\n",
       "5.0     31089\n",
       "0.0     26726\n",
       "6.0     25362\n",
       "4.0     16391\n",
       "Name: passenger_count, dtype: int64"
      ]
     },
     "execution_count": 72,
     "metadata": {},
     "output_type": "execute_result"
    }
   ],
   "source": [
    "data_yellow_cab_new.passenger_count.value_counts()"
   ]
  },
  {
   "cell_type": "markdown",
   "metadata": {},
   "source": [
    "This looks like fair distribution."
   ]
  },
  {
   "cell_type": "markdown",
   "metadata": {},
   "source": [
    "# Store and Forward Flag"
   ]
  },
  {
   "cell_type": "code",
   "execution_count": 48,
   "metadata": {},
   "outputs": [
    {
     "data": {
      "text/plain": [
       "N    0.985072\n",
       "Y    0.014928\n",
       "Name: store_and_fwd_flag, dtype: float64"
      ]
     },
     "execution_count": 48,
     "metadata": {},
     "output_type": "execute_result"
    }
   ],
   "source": [
    "data_yellow_cab_new['store_and_fwd_flag'].value_counts(normalize=True)"
   ]
  },
  {
   "cell_type": "markdown",
   "metadata": {},
   "source": [
    "We can observe that less than 1% of journeys were saved before being sent. The number of N flags is significantly higher. We'll see if they have anything to do with the trip's duration afterwards."
   ]
  },
  {
   "cell_type": "markdown",
   "metadata": {},
   "source": [
    "# Distance"
   ]
  },
  {
   "cell_type": "code",
   "execution_count": 49,
   "metadata": {},
   "outputs": [
    {
     "data": {
      "text/plain": [
       "0.80     22352\n",
       "0.90     21813\n",
       "1.00     21656\n",
       "1.10     20877\n",
       "0.70     20824\n",
       "         ...  \n",
       "24.45        1\n",
       "38.41        1\n",
       "47.45        1\n",
       "24.04        1\n",
       "25.92        1\n",
       "Name: trip_distance, Length: 3570, dtype: int64"
      ]
     },
     "execution_count": 49,
     "metadata": {},
     "output_type": "execute_result"
    }
   ],
   "source": [
    "data_yellow_cab_new['trip_distance'].value_counts()"
   ]
  },
  {
   "cell_type": "markdown",
   "metadata": {},
   "source": [
    "In order to find whether there are any trip with 0 kms we need to analysis the data\n",
    "using bivariate analysis. There can be many reason for trips with 0 kms some are mentioned below:\n",
    "    \n",
    "    1. Since we dont any latitude and longitude it is possible that drop location was not idenitfied\n",
    "    2. The driver in order to complete required number of ride must have purposely taken trip with 0kms\n",
    "    3. The passenger cancelled the trip"
   ]
  },
  {
   "cell_type": "markdown",
   "metadata": {},
   "source": [
    "# Trips by Day"
   ]
  },
  {
   "cell_type": "code",
   "execution_count": 50,
   "metadata": {},
   "outputs": [
    {
     "data": {
      "image/png": "[encoded data removed]",
      "text/plain": [
       "<Figure size 1440x360 with 2 Axes>"
      ]
     },
     "metadata": {
      "needs_background": "light"
     },
     "output_type": "display_data"
    }
   ],
   "source": [
    "figure,(ax1,ax2)=plt.subplots(ncols=2,figsize=(20,5))\n",
    "ax1.set_title('Days on Pickups took')\n",
    "ax=sns.countplot(x=\"pickup_day\",data=data_yellow_cab_new,ax=ax1)\n",
    "ax2.set_title('Dropoff Days')\n",
    "ax=sns.countplot(x=\"dropoff_day\",data=data_yellow_cab_new,ax=ax2)"
   ]
  },
  {
   "cell_type": "markdown",
   "metadata": {},
   "source": [
    "Seperating data below in different axis "
   ]
  },
  {
   "cell_type": "code",
   "execution_count": 51,
   "metadata": {},
   "outputs": [
    {
     "data": {
      "text/plain": [
       "VendorID                         float64\n",
       "tpep_pickup_datetime              object\n",
       "tpep_dropoff_datetime             object\n",
       "passenger_count                  float64\n",
       "trip_distance                    float64\n",
       "RatecodeID                       float64\n",
       "store_and_fwd_flag                object\n",
       "PULocationID                       int64\n",
       "DOLocationID                       int64\n",
       "payment_type                     float64\n",
       "fare_amount                      float64\n",
       "extra                            float64\n",
       "mta_tax                          float64\n",
       "tip_amount                       float64\n",
       "tolls_amount                     float64\n",
       "improvement_surcharge            float64\n",
       "total_amount                     float64\n",
       "congestion_surcharge             float64\n",
       "pickuptime                datetime64[ns]\n",
       "droptime                  datetime64[ns]\n",
       "trip_duration            timedelta64[ns]\n",
       "pickuptime_datetime       datetime64[ns]\n",
       "droptime_datetime         datetime64[ns]\n",
       "pickup_day                        object\n",
       "dropoff_day                       object\n",
       "pickup_day_no                      int64\n",
       "dropoff_day_no                     int64\n",
       "pickup_hour                        int64\n",
       "dropoff_hour                       int64\n",
       "pickup_month                       int64\n",
       "dropoff_month                      int64\n",
       "pickup_timeofday                  object\n",
       "dropoff_timeofday                 object\n",
       "dtype: object"
      ]
     },
     "execution_count": 51,
     "metadata": {},
     "output_type": "execute_result"
    }
   ],
   "source": [
    "data_yellow_cab_new.dtypes"
   ]
  },
  {
   "cell_type": "code",
   "execution_count": 52,
   "metadata": {},
   "outputs": [
    {
     "data": {
      "text/plain": [
       "Friday       219392\n",
       "Thursday     197442\n",
       "Wednesday    187551\n",
       "Saturday     183202\n",
       "Tuesday      180600\n",
       "Monday       162110\n",
       "Sunday       141109\n",
       "Name: pickup_day, dtype: int64"
      ]
     },
     "execution_count": 52,
     "metadata": {},
     "output_type": "execute_result"
    }
   ],
   "source": [
    "data_yellow_cab_new['pickup_day'].value_counts()"
   ]
  },
  {
   "cell_type": "code",
   "execution_count": 53,
   "metadata": {},
   "outputs": [
    {
     "data": {
      "text/plain": [
       "Friday       219149\n",
       "Thursday     197261\n",
       "Wednesday    187584\n",
       "Saturday     183209\n",
       "Tuesday      180548\n",
       "Monday       162325\n",
       "Sunday       141330\n",
       "Name: dropoff_day, dtype: int64"
      ]
     },
     "execution_count": 53,
     "metadata": {},
     "output_type": "execute_result"
    }
   ],
   "source": [
    "data_yellow_cab_new['dropoff_day'].value_counts()"
   ]
  },
  {
   "cell_type": "code",
   "execution_count": 54,
   "metadata": {},
   "outputs": [
    {
     "data": {
      "image/png": "[encoded data removed]",
      "text/plain": [
       "<Figure size 720x720 with 2 Axes>"
      ]
     },
     "metadata": {
      "needs_background": "light"
     },
     "output_type": "display_data"
    }
   ],
   "source": [
    "figure,ax=plt.subplots(nrows=2,ncols=1,figsize=(10,10))\n",
    "sns.countplot(x='pickup_day',data=data_yellow_cab_new,ax=ax[0])\n",
    "ax[0].set_title('Pickups as per day of the week')\n",
    "sns.countplot(x='dropoff_day',data=data_yellow_cab_new,ax=ax[1])\n",
    "ax[1].set_title('Dropoffs as per day of the week')\n",
    "plt.tight_layout()"
   ]
  },
  {
   "cell_type": "markdown",
   "metadata": {},
   "source": [
    "As we can see that the day Friday is the day where maximum pickup and dropoff took place. \n",
    "It is mostly likely because of being start of weekend"
   ]
  },
  {
   "cell_type": "markdown",
   "metadata": {},
   "source": [
    "# Trips per Hour"
   ]
  },
  {
   "cell_type": "code",
   "execution_count": 55,
   "metadata": {},
   "outputs": [
    {
     "data": {
      "image/png": "[encoded data removed]",
      "text/plain": [
       "<Figure size 1440x360 with 2 Axes>"
      ]
     },
     "metadata": {
      "needs_background": "light"
     },
     "output_type": "display_data"
    }
   ],
   "source": [
    "figure,(ax9,ax10)=plt.subplots(ncols=2,figsize=(20,5))\n",
    "ax9.set_title('Hour at which Pickup happens')\n",
    "ax=sns.countplot(x=\"pickup_hour\",data=data_yellow_cab_new,ax=ax9)\n",
    "ax10.set_title('Hours at which Dropoff happens')\n",
    "ax=sns.countplot(x=\"dropoff_hour\",data=data_yellow_cab_new,ax=ax10)"
   ]
  },
  {
   "cell_type": "code",
   "execution_count": 56,
   "metadata": {},
   "outputs": [
    {
     "data": {
      "text/plain": [
       "Text(0.5, 1.0, 'Distribution of dropoff hours')"
      ]
     },
     "execution_count": 56,
     "metadata": {},
     "output_type": "execute_result"
    },
    {
     "data": {
      "image/png": "[encoded data removed]",
      "text/plain": [
       "<Figure size 720x360 with 2 Axes>"
      ]
     },
     "metadata": {
      "needs_background": "light"
     },
     "output_type": "display_data"
    }
   ],
   "source": [
    "figure,ax=plt.subplots(nrows=1,ncols=2,figsize=(10,5))\n",
    "data_yellow_cab_new['pickup_hour_new']=data_yellow_cab_new['pickuptime_datetime'].dt.hour\n",
    "data_yellow_cab_new.pickup_hour.hist(bins=24,ax=ax[0])\n",
    "ax[0].set_title('Distribution of pickup hours')\n",
    "data_yellow_cab_new['dropoff_hour_new']=data_yellow_cab_new['droptime_datetime'].dt.hour\n",
    "data_yellow_cab_new.dropoff_hour.hist(bins=24,ax=ax[1])\n",
    "ax[1].set_title('Distribution of dropoff hours')"
   ]
  },
  {
   "cell_type": "markdown",
   "metadata": {},
   "source": [
    "As we can see the busiest hours is between 9 am till 6 pm which is our office hours "
   ]
  },
  {
   "cell_type": "markdown",
   "metadata": {},
   "source": [
    "Since it is difficult to analysis time, hence we divide the time in 4 zones:\n",
    "   \n",
    "   1. morning (4 hrs to 10 hrs) \n",
    "   2. midday (10 hrs to 16 hrs)  \n",
    "   3. evening (16 hrs to 22 hrs)  \n",
    "   4. late night (22 hrs to 4 hrs)\n",
    "\n"
   ]
  },
  {
   "cell_type": "markdown",
   "metadata": {},
   "source": [
    "# Trips per Time of Day"
   ]
  },
  {
   "cell_type": "code",
   "execution_count": 89,
   "metadata": {},
   "outputs": [],
   "source": [
    "import datetime \n",
    "def zonaltime(x):\n",
    "    if x>=datetime.time(4, 0, 1) and x <=datetime.time(10, 0, 0):\n",
    "        return 'morning'\n",
    "    elif x>=datetime.time(10, 0, 1) and x <=datetime.time(16, 0, 0):\n",
    "        return 'midday'\n",
    "    elif x>=datetime.time(16, 0, 1) and x <=datetime.time(22, 0, 0):\n",
    "        return 'evening'\n",
    "    elif x>=datetime.time(22, 0, 1) or x <=datetime.time(4, 0, 0):\n",
    "        return 'late night'\n",
    "    \n",
    "data_yellow_cab_new['pickup_zone']=data_yellow_cab_new['pickuptime_datetime'].apply(lambda x :zonaltime(datetime.datetime.strptime(str(x), \"%Y-%m-%d %H:%M:%S\").time()) )\n",
    "data_yellow_cab_new['dropoff_zone']=data_yellow_cab_new['droptime_datetime'].apply(lambda x :zonaltime(datetime.datetime.strptime(str(x), \"%Y-%m-%d %H:%M:%S\").time()) )"
   ]
  },
  {
   "cell_type": "code",
   "execution_count": 91,
   "metadata": {},
   "outputs": [
    {
     "data": {
      "image/png": "[encoded data removed]",
      "text/plain": [
       "<Figure size 720x360 with 2 Axes>"
      ]
     },
     "metadata": {
      "needs_background": "light"
     },
     "output_type": "display_data"
    }
   ],
   "source": [
    "figure,ax=plt.subplots(nrows=1,ncols=2,figsize=(10,5))\n",
    "sns.countplot(x='pickup_zone',data=data_yellow_cab_new,ax=ax[0])\n",
    "ax[0].set_title('Morning VS Late Night Pickups ')\n",
    "sns.countplot(x='dropoff_zone',data=data_yellow_cab_new,ax=ax[1])\n",
    "ax[1].set_title('Morning VS Late Night Dropoff')\n",
    "plt.tight_layout()"
   ]
  },
  {
   "cell_type": "code",
   "execution_count": 92,
   "metadata": {},
   "outputs": [
    {
     "data": {
      "text/plain": [
       "midday        556317\n",
       "evening       438162\n",
       "morning       203274\n",
       "late night     73652\n",
       "Name: pickup_zone, dtype: int64"
      ]
     },
     "execution_count": 92,
     "metadata": {},
     "output_type": "execute_result"
    }
   ],
   "source": [
    "data_yellow_cab_new['pickup_zone'].value_counts()"
   ]
  },
  {
   "cell_type": "code",
   "execution_count": 93,
   "metadata": {},
   "outputs": [
    {
     "data": {
      "text/plain": [
       "midday        548316\n",
       "evening       451686\n",
       "morning       191471\n",
       "late night     79932\n",
       "Name: dropoff_zone, dtype: int64"
      ]
     },
     "execution_count": 93,
     "metadata": {},
     "output_type": "execute_result"
    }
   ],
   "source": [
    "data_yellow_cab_new['dropoff_zone'].value_counts()"
   ]
  },
  {
   "cell_type": "markdown",
   "metadata": {},
   "source": [
    "As we can see the most pickup and dropoff occurs during middays"
   ]
  },
  {
   "cell_type": "code",
   "execution_count": 78,
   "metadata": {},
   "outputs": [
    {
     "data": {
      "text/plain": [
       "VendorID                         float64\n",
       "tpep_pickup_datetime              object\n",
       "tpep_dropoff_datetime             object\n",
       "passenger_count                  float64\n",
       "trip_distance                    float64\n",
       "RatecodeID                       float64\n",
       "store_and_fwd_flag                object\n",
       "PULocationID                       int64\n",
       "DOLocationID                       int64\n",
       "payment_type                     float64\n",
       "fare_amount                      float64\n",
       "extra                            float64\n",
       "mta_tax                          float64\n",
       "tip_amount                       float64\n",
       "tolls_amount                     float64\n",
       "improvement_surcharge            float64\n",
       "total_amount                     float64\n",
       "congestion_surcharge             float64\n",
       "pickuptime                datetime64[ns]\n",
       "droptime                  datetime64[ns]\n",
       "trip_duration            timedelta64[ns]\n",
       "pickuptime_datetime       datetime64[ns]\n",
       "droptime_datetime         datetime64[ns]\n",
       "pickup_day                        object\n",
       "dropoff_day                       object\n",
       "pickup_day_no                      int64\n",
       "dropoff_day_no                     int64\n",
       "pickup_hour                        int64\n",
       "dropoff_hour                       int64\n",
       "pickup_month                       int64\n",
       "dropoff_month                      int64\n",
       "pickup_timeofday                  object\n",
       "dropoff_timeofday                 object\n",
       "duration_time                   category\n",
       "dtype: object"
      ]
     },
     "execution_count": 78,
     "metadata": {},
     "output_type": "execute_result"
    }
   ],
   "source": [
    "data_yellow_cab_new.dtypes"
   ]
  },
  {
   "cell_type": "markdown",
   "metadata": {},
   "source": [
    "## Payment_type"
   ]
  },
  {
   "cell_type": "code",
   "execution_count": 94,
   "metadata": {},
   "outputs": [
    {
     "data": {
      "text/plain": [
       "1.0    934466\n",
       "2.0    322888\n",
       "3.0      8384\n",
       "4.0      5667\n",
       "Name: payment_type, dtype: int64"
      ]
     },
     "execution_count": 94,
     "metadata": {},
     "output_type": "execute_result"
    }
   ],
   "source": [
    "data_yellow_cab_new['payment_type'].value_counts()"
   ]
  },
  {
   "cell_type": "code",
   "execution_count": 95,
   "metadata": {},
   "outputs": [
    {
     "data": {
      "text/plain": [
       "<AxesSubplot:xlabel='payment_type', ylabel='count'>"
      ]
     },
     "execution_count": 95,
     "metadata": {},
     "output_type": "execute_result"
    },
    {
     "data": {
      "image/png": "[encoded data removed]",
      "text/plain": [
       "<Figure size 432x288 with 1 Axes>"
      ]
     },
     "metadata": {
      "needs_background": "light"
     },
     "output_type": "display_data"
    }
   ],
   "source": [
    "sns.countplot(x='payment_type',data=data_yellow_cab_new)"
   ]
  },
  {
   "cell_type": "markdown",
   "metadata": {},
   "source": [
    "As we can see from the most common form of payment is credit card and there are no trip which is whose payment is unknown or voided"
   ]
  },
  {
   "cell_type": "code",
   "execution_count": 96,
   "metadata": {},
   "outputs": [
    {
     "data": {
      "text/plain": [
       "6.00      77551\n",
       "5.50      76566\n",
       "6.50      74263\n",
       "5.00      72220\n",
       "7.00      70966\n",
       "          ...  \n",
       "113.25        1\n",
       "29.99         1\n",
       "261.50        1\n",
       "18.08         1\n",
       "0.04          1\n",
       "Name: fare_amount, Length: 1279, dtype: int64"
      ]
     },
     "execution_count": 96,
     "metadata": {},
     "output_type": "execute_result"
    }
   ],
   "source": [
    "data_yellow_cab_new['fare_amount'].value_counts()"
   ]
  },
  {
   "cell_type": "markdown",
   "metadata": {},
   "source": [
    "# Bivariate Analysis"
   ]
  },
  {
   "cell_type": "markdown",
   "metadata": {},
   "source": [
    "Finding links, patterns, and correlations between two variables is the goal of bivariate analysis."
   ]
  },
  {
   "cell_type": "markdown",
   "metadata": {},
   "source": [
    "## Trip Duration per Vendor"
   ]
  },
  {
   "cell_type": "code",
   "execution_count": 104,
   "metadata": {},
   "outputs": [
    {
     "data": {
      "text/plain": [
       "<AxesSubplot:xlabel='VendorID', ylabel='trip_duration'>"
      ]
     },
     "execution_count": 104,
     "metadata": {},
     "output_type": "execute_result"
    },
    {
     "data": {
      "image/png": "[encoded data removed]",
      "text/plain": [
       "<Figure size 432x288 with 1 Axes>"
      ]
     },
     "metadata": {
      "needs_background": "light"
     },
     "output_type": "display_data"
    }
   ],
   "source": [
    "sns.barplot(y=data_yellow_cab_new['trip_duration'].astype('timedelta64[s]'),x='VendorID',data=data_yellow_cab_new)"
   ]
  },
  {
   "cell_type": "code",
   "execution_count": 102,
   "metadata": {},
   "outputs": [
    {
     "name": "stdout",
     "output_type": "stream",
     "text": [
      "0          1.0\n",
      "1          1.0\n",
      "2          1.0\n",
      "3          1.0\n",
      "4          2.0\n",
      "          ... \n",
      "1271408    2.0\n",
      "1271409    2.0\n",
      "1271410    2.0\n",
      "1271411    2.0\n",
      "1271412    2.0\n",
      "Name: VendorID, Length: 1271405, dtype: float64\n"
     ]
    }
   ],
   "source": [
    "print(data_yellow_cab_new['VendorID'])"
   ]
  },
  {
   "cell_type": "markdown",
   "metadata": {},
   "source": [
    "VendorId with value 2 takes longer trips compared to vendor id with value 1"
   ]
  },
  {
   "cell_type": "markdown",
   "metadata": {},
   "source": [
    "## Trip Duration per Store and Forward Flag"
   ]
  },
  {
   "cell_type": "code",
   "execution_count": 110,
   "metadata": {},
   "outputs": [
    {
     "data": {
      "text/plain": [
       "<seaborn.axisgrid.FacetGrid at 0x7fb50e59ad60>"
      ]
     },
     "execution_count": 110,
     "metadata": {},
     "output_type": "execute_result"
    },
    {
     "data": {
      "image/png": "[encoded data removed]",
      "text/plain": [
       "<Figure size 360x360 with 1 Axes>"
      ]
     },
     "metadata": {
      "needs_background": "light"
     },
     "output_type": "display_data"
    }
   ],
   "source": [
    "sns.catplot(y=data_yellow_cab_new['trip_duration'].astype('timedelta64[s]'),x='store_and_fwd_flag',data=data_yellow_cab_new,kind=\"strip\")"
   ]
  },
  {
   "cell_type": "markdown",
   "metadata": {},
   "source": [
    "From the above chart we can see trip duration is longer for those whose has unstored flag"
   ]
  },
  {
   "cell_type": "markdown",
   "metadata": {},
   "source": [
    "## Trip Duration per passenger count"
   ]
  },
  {
   "cell_type": "code",
   "execution_count": 111,
   "metadata": {},
   "outputs": [
    {
     "data": {
      "text/plain": [
       "<seaborn.axisgrid.FacetGrid at 0x7fb4e4e69640>"
      ]
     },
     "execution_count": 111,
     "metadata": {},
     "output_type": "execute_result"
    },
    {
     "data": {
      "image/png": "[encoded data removed]",
      "text/plain": [
       "<Figure size 360x360 with 1 Axes>"
      ]
     },
     "metadata": {
      "needs_background": "light"
     },
     "output_type": "display_data"
    }
   ],
   "source": [
    "sns.catplot(y=data_yellow_cab_new['trip_duration'].astype('timedelta64[s]'),x='passenger_count',data=data_yellow_cab_new,kind=\"strip\")"
   ]
  },
  {
   "cell_type": "markdown",
   "metadata": {},
   "source": [
    "Since maximum rides are done by single passenger no relationship can be identified"
   ]
  },
  {
   "cell_type": "markdown",
   "metadata": {},
   "source": [
    "## Trip Duration per hour"
   ]
  },
  {
   "cell_type": "code",
   "execution_count": 113,
   "metadata": {},
   "outputs": [
    {
     "data": {
      "text/plain": [
       "<AxesSubplot:xlabel='pickup_hour', ylabel='trip_duration'>"
      ]
     },
     "execution_count": 113,
     "metadata": {},
     "output_type": "execute_result"
    },
    {
     "data": {
      "image/png": "[encoded data removed]",
      "text/plain": [
       "<Figure size 432x288 with 1 Axes>"
      ]
     },
     "metadata": {
      "needs_background": "light"
     },
     "output_type": "display_data"
    }
   ],
   "source": [
    "sns.lineplot(x='pickup_hour',y=data_yellow_cab_new['trip_duration'].astype('timedelta64[s]'),data=data_yellow_cab_new)"
   ]
  },
  {
   "cell_type": "markdown",
   "metadata": {},
   "source": [
    "We see maximum duration is aroun 9 am in the morning which is because of office start time causing alot of traffic"
   ]
  },
  {
   "cell_type": "markdown",
   "metadata": {},
   "source": [
    "## Trip Duration per time of day\n"
   ]
  },
  {
   "cell_type": "code",
   "execution_count": 114,
   "metadata": {},
   "outputs": [
    {
     "data": {
      "text/plain": [
       "<AxesSubplot:xlabel='pickup_timeofday', ylabel='trip_duration'>"
      ]
     },
     "execution_count": 114,
     "metadata": {},
     "output_type": "execute_result"
    },
    {
     "data": {
      "image/png": "[encoded data removed]",
      "text/plain": [
       "<Figure size 432x288 with 1 Axes>"
      ]
     },
     "metadata": {
      "needs_background": "light"
     },
     "output_type": "display_data"
    }
   ],
   "source": [
    "sns.lineplot(x='pickup_timeofday',y=data_yellow_cab_new['trip_duration'].astype('timedelta64[s]'),data=data_yellow_cab_new)"
   ]
  },
  {
   "cell_type": "markdown",
   "metadata": {},
   "source": [
    "AS we can see trip duration is maximum in late night, evening and afternoon and least in morning"
   ]
  },
  {
   "cell_type": "markdown",
   "metadata": {},
   "source": [
    "## Trip Duration per Day of Week"
   ]
  },
  {
   "cell_type": "code",
   "execution_count": 115,
   "metadata": {},
   "outputs": [
    {
     "data": {
      "text/plain": [
       "<AxesSubplot:xlabel='pickup_day_no', ylabel='trip_duration'>"
      ]
     },
     "execution_count": 115,
     "metadata": {},
     "output_type": "execute_result"
    },
    {
     "data": {
      "image/png": "[encoded data removed]",
      "text/plain": [
       "<Figure size 432x288 with 1 Axes>"
      ]
     },
     "metadata": {
      "needs_background": "light"
     },
     "output_type": "display_data"
    }
   ],
   "source": [
    "sns.lineplot(x='pickup_day_no',y=data_yellow_cab_new['trip_duration'].astype('timedelta64[s]'),data=data_yellow_cab_new)"
   ]
  },
  {
   "cell_type": "markdown",
   "metadata": {},
   "source": [
    "As we can see the longest time are taking as weekend start from thrusday"
   ]
  },
  {
   "cell_type": "markdown",
   "metadata": {},
   "source": [
    "## Trip Duration per month"
   ]
  },
  {
   "cell_type": "code",
   "execution_count": 116,
   "metadata": {},
   "outputs": [
    {
     "data": {
      "text/plain": [
       "<AxesSubplot:xlabel='pickup_month', ylabel='trip_duration'>"
      ]
     },
     "execution_count": 116,
     "metadata": {},
     "output_type": "execute_result"
    },
    {
     "data": {
      "image/png": "[encoded data removed]",
      "text/plain": [
       "<Figure size 432x288 with 1 Axes>"
      ]
     },
     "metadata": {
      "needs_background": "light"
     },
     "output_type": "display_data"
    }
   ],
   "source": [
    "sns.lineplot(x='pickup_month',y=data_yellow_cab_new['trip_duration'].astype('timedelta64[s]'),data=data_yellow_cab_new)"
   ]
  },
  {
   "cell_type": "markdown",
   "metadata": {},
   "source": [
    "We can see trip duration rising every month"
   ]
  },
  {
   "cell_type": "markdown",
   "metadata": {},
   "source": [
    "## Distance and Vendor"
   ]
  },
  {
   "cell_type": "code",
   "execution_count": 118,
   "metadata": {},
   "outputs": [
    {
     "data": {
      "text/plain": [
       "<AxesSubplot:xlabel='VendorID', ylabel='trip_distance'>"
      ]
     },
     "execution_count": 118,
     "metadata": {},
     "output_type": "execute_result"
    },
    {
     "data": {
      "image/png": "[encoded data removed]",
      "text/plain": [
       "<Figure size 432x288 with 1 Axes>"
      ]
     },
     "metadata": {
      "needs_background": "light"
     },
     "output_type": "display_data"
    }
   ],
   "source": [
    "sns.barplot(y='trip_distance',x='VendorID',data=data_yellow_cab_new,estimator=np.mean)"
   ]
  },
  {
   "cell_type": "markdown",
   "metadata": {},
   "source": [
    "As we can see vendor with id as 2 has travelled little more distance than vendor with id as 1"
   ]
  },
  {
   "cell_type": "markdown",
   "metadata": {},
   "source": [
    "## Distance and Store and Forward Flag"
   ]
  },
  {
   "cell_type": "code",
   "execution_count": 120,
   "metadata": {},
   "outputs": [
    {
     "data": {
      "text/plain": [
       "<seaborn.axisgrid.FacetGrid at 0x7fb50ffd4dc0>"
      ]
     },
     "execution_count": 120,
     "metadata": {},
     "output_type": "execute_result"
    },
    {
     "data": {
      "image/png": "[encoded data removed]",
      "text/plain": [
       "<Figure size 360x360 with 1 Axes>"
      ]
     },
     "metadata": {
      "needs_background": "light"
     },
     "output_type": "display_data"
    }
   ],
   "source": [
    "sns.catplot(y='trip_distance',x='store_and_fwd_flag',data=data_yellow_cab_new,kind=\"strip\")"
   ]
  },
  {
   "cell_type": "markdown",
   "metadata": {},
   "source": [
    "As we can see longer distance trip are not sorted "
   ]
  },
  {
   "cell_type": "markdown",
   "metadata": {},
   "source": [
    "## Distance per passenger count"
   ]
  },
  {
   "cell_type": "code",
   "execution_count": 122,
   "metadata": {},
   "outputs": [
    {
     "data": {
      "text/plain": [
       "<seaborn.axisgrid.FacetGrid at 0x7fb4e50758e0>"
      ]
     },
     "execution_count": 122,
     "metadata": {},
     "output_type": "execute_result"
    },
    {
     "data": {
      "image/png": "[encoded data removed]",
      "text/plain": [
       "<Figure size 360x360 with 1 Axes>"
      ]
     },
     "metadata": {
      "needs_background": "light"
     },
     "output_type": "display_data"
    }
   ],
   "source": [
    "sns.catplot(y='trip_distance',x='passenger_count',data=data_yellow_cab_new,kind=\"strip\")"
   ]
  },
  {
   "cell_type": "markdown",
   "metadata": {},
   "source": [
    "We can see longer distance is travelled when passensger count is 1"
   ]
  },
  {
   "cell_type": "markdown",
   "metadata": {},
   "source": [
    "## Distance per day of week"
   ]
  },
  {
   "cell_type": "code",
   "execution_count": 123,
   "metadata": {},
   "outputs": [
    {
     "data": {
      "text/plain": [
       "<AxesSubplot:xlabel='pickup_day_no', ylabel='trip_distance'>"
      ]
     },
     "execution_count": 123,
     "metadata": {},
     "output_type": "execute_result"
    },
    {
     "data": {
      "image/png": "[encoded data removed]",
      "text/plain": [
       "<Figure size 432x288 with 1 Axes>"
      ]
     },
     "metadata": {
      "needs_background": "light"
     },
     "output_type": "display_data"
    }
   ],
   "source": [
    "sns.lineplot(x='pickup_day_no',y='trip_distance',data=data_yellow_cab_new)"
   ]
  },
  {
   "cell_type": "markdown",
   "metadata": {},
   "source": [
    "1. Saturday have longer distances, owing to the fact that it is the weekend.\n",
    "2. The distances traveled on Mondays are also rather shorts.\n",
    "3. This indicates that outstation travels are possible on these days, and/or that the streets are busier."
   ]
  },
  {
   "cell_type": "markdown",
   "metadata": {},
   "source": [
    "## Distance per hour of day"
   ]
  },
  {
   "cell_type": "code",
   "execution_count": 125,
   "metadata": {},
   "outputs": [
    {
     "data": {
      "text/plain": [
       "<AxesSubplot:xlabel='pickup_hour', ylabel='trip_distance'>"
      ]
     },
     "execution_count": 125,
     "metadata": {},
     "output_type": "execute_result"
    },
    {
     "data": {
      "image/png": "[encoded data removed]",
      "text/plain": [
       "<Figure size 432x288 with 1 Axes>"
      ]
     },
     "metadata": {
      "needs_background": "light"
     },
     "output_type": "display_data"
    }
   ],
   "source": [
    "sns.lineplot(x='pickup_hour',y='trip_distance',data=data_yellow_cab_new)"
   ]
  },
  {
   "cell_type": "markdown",
   "metadata": {},
   "source": [
    "Distance is longer aroung 9am when office time start "
   ]
  },
  {
   "cell_type": "markdown",
   "metadata": {},
   "source": [
    "## Distance per time of day"
   ]
  },
  {
   "cell_type": "code",
   "execution_count": 126,
   "metadata": {},
   "outputs": [
    {
     "data": {
      "text/plain": [
       "<AxesSubplot:xlabel='pickup_timeofday', ylabel='trip_distance'>"
      ]
     },
     "execution_count": 126,
     "metadata": {},
     "output_type": "execute_result"
    },
    {
     "data": {
      "image/png": "[encoded data removed]",
      "text/plain": [
       "<Figure size 432x288 with 1 Axes>"
      ]
     },
     "metadata": {
      "needs_background": "light"
     },
     "output_type": "display_data"
    }
   ],
   "source": [
    "sns.lineplot(x='pickup_timeofday',y='trip_distance',data=data_yellow_cab_new)"
   ]
  },
  {
   "cell_type": "markdown",
   "metadata": {},
   "source": [
    "Distance travelled in late night and evening are more due to longer trips "
   ]
  },
  {
   "cell_type": "markdown",
   "metadata": {},
   "source": [
    "## Passenger Count and Vendor id"
   ]
  },
  {
   "cell_type": "code",
   "execution_count": 129,
   "metadata": {},
   "outputs": [
    {
     "data": {
      "text/plain": [
       "<AxesSubplot:xlabel='VendorID', ylabel='passenger_count'>"
      ]
     },
     "execution_count": 129,
     "metadata": {},
     "output_type": "execute_result"
    },
    {
     "data": {
      "image/png": "[encoded data removed]",
      "text/plain": [
       "<Figure size 432x288 with 1 Axes>"
      ]
     },
     "metadata": {
      "needs_background": "light"
     },
     "output_type": "display_data"
    }
   ],
   "source": [
    "sns.barplot(y='passenger_count',x='VendorID',data=data_yellow_cab_new)"
   ]
  },
  {
   "cell_type": "markdown",
   "metadata": {},
   "source": [
    "This demonstrates that vendor 2 typically transports two people, but vendor 1 only transports one."
   ]
  },
  {
   "cell_type": "markdown",
   "metadata": {},
   "source": [
    "## Trip Duration and Distance"
   ]
  },
  {
   "cell_type": "code",
   "execution_count": 131,
   "metadata": {},
   "outputs": [
    {
     "data": {
      "text/plain": [
       "<seaborn.axisgrid.FacetGrid at 0x7fb50ffa1a90>"
      ]
     },
     "execution_count": 131,
     "metadata": {},
     "output_type": "execute_result"
    },
    {
     "data": {
      "image/png": "[encoded data removed]",
      "text/plain": [
       "<Figure size 360x360 with 1 Axes>"
      ]
     },
     "metadata": {
      "needs_background": "light"
     },
     "output_type": "display_data"
    }
   ],
   "source": [
    "sns.relplot(y=data_yellow_cab_new.trip_distance,x=data_yellow_cab_new['trip_duration'].astype('timedelta64[s]'),data=data_yellow_cab_new)"
   ]
  },
  {
   "cell_type": "markdown",
   "metadata": {},
   "source": [
    "We can observe that there are flights that last as little as 0 seconds yet cover a big distance. Trips with zero kilometers traveled and negative trip durations are also possible."
   ]
  },
  {
   "cell_type": "code",
   "execution_count": 133,
   "metadata": {},
   "outputs": [
    {
     "data": {
      "text/plain": [
       "38    0 days 00:00:06\n",
       "39    0 days 00:12:07\n",
       "160   0 days 00:00:31\n",
       "185   0 days 00:13:45\n",
       "255   0 days 00:00:04\n",
       "Name: trip_duration, dtype: timedelta64[ns]"
      ]
     },
     "execution_count": 133,
     "metadata": {},
     "output_type": "execute_result"
    }
   ],
   "source": [
    "data_yellow_cab_new.trip_duration[data_yellow_cab_new.trip_distance==0].head()"
   ]
  },
  {
   "cell_type": "markdown",
   "metadata": {},
   "source": [
    "## Trip Duration and The day of the week"
   ]
  },
  {
   "cell_type": "code",
   "execution_count": 136,
   "metadata": {},
   "outputs": [
    {
     "data": {
      "text/plain": [
       "Text(0.5, 1.0, 'The Trip Duration per Dropoff Day of the week')"
      ]
     },
     "execution_count": 136,
     "metadata": {},
     "output_type": "execute_result"
    },
    {
     "data": {
      "image/png": "[encoded data removed]",
      "text/plain": [
       "<Figure size 432x432 with 1 Axes>"
      ]
     },
     "metadata": {
      "needs_background": "light"
     },
     "output_type": "display_data"
    },
    {
     "data": {
      "image/png": "[encoded data removed]",
      "text/plain": [
       "<Figure size 432x432 with 1 Axes>"
      ]
     },
     "metadata": {
      "needs_background": "light"
     },
     "output_type": "display_data"
    }
   ],
   "source": [
    "sns.catplot(x=\"pickup_day\",y=data_yellow_cab_new['trip_duration'].astype('timedelta64[s]'),kind=\"bar\",data=df,height=6,aspect=1)\n",
    "plt.title('The Trip Duration per PickUp Day of the week')\n",
    "sns.catplot(x=\"dropoff_day\",y=data_yellow_cab_new['trip_duration'].astype('timedelta64[s]'),kind=\"bar\",data=df,height=6,aspect=1)\n",
    "plt.title('The Trip Duration per Dropoff Day of the week')"
   ]
  },
  {
   "cell_type": "markdown",
   "metadata": {},
   "source": [
    "The graphs show the average travel estimate for each day of the week. The error bars show the degree of uncertainty surrounding that estimate."
   ]
  },
  {
   "cell_type": "markdown",
   "metadata": {},
   "source": [
    "The highest completion time is on Monday while rest other takes lesser time"
   ]
  },
  {
   "cell_type": "markdown",
   "metadata": {},
   "source": [
    "But this is not enough. We must also take into consideration the percentage of short, medium and long trips taken on each day."
   ]
  },
  {
   "cell_type": "code",
   "execution_count": 139,
   "metadata": {},
   "outputs": [
    {
     "data": {
      "text/plain": [
       "Text(0.5, 1.0, 'The percentage of different duration of trips')"
      ]
     },
     "execution_count": 139,
     "metadata": {},
     "output_type": "execute_result"
    },
    {
     "data": {
      "image/png": "[encoded data removed]",
      "text/plain": [
       "<Figure size 432x288 with 1 Axes>"
      ]
     },
     "metadata": {
      "needs_background": "light"
     },
     "output_type": "display_data"
    }
   ],
   "source": [
    "ax1=data_yellow_cab_new.groupby('pickup_day')['duration_time'].value_counts(normalize=True).unstack()\n",
    "ax1.plot(kind='bar', stacked='True')\n",
    "plt.title('The percentage of different duration of trips')"
   ]
  },
  {
   "cell_type": "markdown",
   "metadata": {},
   "source": [
    "Within each day of the week, the graph depicts a percentage distribution of journeys of various lengths."
   ]
  },
  {
   "cell_type": "markdown",
   "metadata": {},
   "source": [
    "Since the trip between 0-5 hours are larger we can only say that the trip must be taken nearby"
   ]
  },
  {
   "cell_type": "code",
   "execution_count": 141,
   "metadata": {},
   "outputs": [
    {
     "data": {
      "text/plain": [
       "Text(0.5, 1.0, 'A compared Duration of trips > 5 hours')"
      ]
     },
     "execution_count": 141,
     "metadata": {},
     "output_type": "execute_result"
    },
    {
     "data": {
      "image/png": "[encoded data removed]",
      "text/plain": [
       "<Figure size 1080x360 with 3 Axes>"
      ]
     },
     "metadata": {
      "needs_background": "light"
     },
     "output_type": "display_data"
    }
   ],
   "source": [
    "figure,ax=plt.subplots(nrows=1,ncols=3,figsize=(15,5))\n",
    "ax1=df[(df.duration_time !=\"< 5\")].groupby('pickup_day')['duration_time'].count()\n",
    "ax1.plot(kind='bar',ax=ax[0])\n",
    "ax[0].set_title('Duration of trips > 5 hours')\n",
    "ax2=df[(df.duration_time !=\"< 5\")].groupby('pickup_day')['duration_time'].value_counts(normalize=True).unstack()\n",
    "ax2.plot(kind='bar', stacked='True',ax=ax[1])\n",
    "ax[1].set_title('Percentage Duration of trips > 5 hours')\n",
    "ax3=df[(df.duration_time !=\"< 5\")].groupby('pickup_day')['duration_time'].value_counts().unstack()\n",
    "ax3.plot(kind='bar',ax=ax[2])\n",
    "ax[2].set_title('A compared Duration of trips > 5 hours')"
   ]
  },
  {
   "cell_type": "markdown",
   "metadata": {},
   "source": [
    "The three graphs show three different sorts of data:\n",
    "\n",
    "The graph on the left depicts a frequency distribution of the number of journeys (> 5 hours) taken on each weekday.\n",
    "\n",
    "The center graph depicts a percentage distribution of journeys of various lengths (> 5 hours) throughout each weekday.\n",
    "\n",
    "The right one depicts the frequency distribution of travels of various lengths (> 5 hours) throughout each weekday."
   ]
  },
  {
   "cell_type": "markdown",
   "metadata": {},
   "source": [
    "The most number trips which lasts > 5 hours were taken on Friday followed by Friday and Tuesday.(Left graph)\n",
    "The most number of trips of duration 5–10, 10–15 was taken on Friday.\n",
    "(right graph)\n",
    "But the highest percentage of trips longer than 20 hours was taken on Sunday and Saturday.\n",
    "(middle graph)"
   ]
  },
  {
   "cell_type": "markdown",
   "metadata": {},
   "source": [
    "## Trip Duration and The time of the day"
   ]
  },
  {
   "cell_type": "code",
   "execution_count": 143,
   "metadata": {},
   "outputs": [
    {
     "data": {
      "image/png": "[encoded data removed]",
      "text/plain": [
       "<Figure size 1440x360 with 2 Axes>"
      ]
     },
     "metadata": {
      "needs_background": "light"
     },
     "output_type": "display_data"
    },
    {
     "data": {
      "image/png": "[encoded data removed]",
      "text/plain": [
       "<Figure size 360x360 with 1 Axes>"
      ]
     },
     "metadata": {
      "needs_background": "light"
     },
     "output_type": "display_data"
    },
    {
     "data": {
      "image/png": "[encoded data removed]",
      "text/plain": [
       "<Figure size 360x360 with 1 Axes>"
      ]
     },
     "metadata": {
      "needs_background": "light"
     },
     "output_type": "display_data"
    }
   ],
   "source": [
    "figure,(ax1,ax2)=plt.subplots(ncols=2,figsize=(20,5))\n",
    "ax1.set_title('Dividing of pickup hours')\n",
    "ax=sns.catplot(x=\"pickup_hour\", y=data_yellow_cab_new['trip_duration'].astype('timedelta64[s]'),kind=\"bar\",data=data_yellow_cab_new,ax=ax1)\n",
    "ax2.set_title('Dividing of dropoff hours')\n",
    "ax=sns.catplot(x=\"dropoff_hour\", y=data_yellow_cab_new['trip_duration'].astype('timedelta64[s]'),kind=\"bar\",data=data_yellow_cab_new,ax=ax2)\n",
    "plt.show()"
   ]
  },
  {
   "cell_type": "markdown",
   "metadata": {},
   "source": [
    "## Passenger count and duration"
   ]
  },
  {
   "cell_type": "code",
   "execution_count": 145,
   "metadata": {},
   "outputs": [
    {
     "data": {
      "text/plain": [
       "<seaborn.axisgrid.FacetGrid at 0x7fb44e3c26a0>"
      ]
     },
     "execution_count": 145,
     "metadata": {},
     "output_type": "execute_result"
    },
    {
     "data": {
      "image/png": "[encoded data removed]",
      "text/plain": [
       "<Figure size 360x360 with 1 Axes>"
      ]
     },
     "metadata": {
      "needs_background": "light"
     },
     "output_type": "display_data"
    }
   ],
   "source": [
    "sns.relplot(x=\"passenger_count\", y=data_yellow_cab_new['trip_duration'].astype('timedelta64[s]'), data=data_yellow_cab_new, kind=\"scatter\")"
   ]
  }
 ],
 "metadata": {
  "kernelspec": {
   "display_name": "Python 3",
   "language": "python",
   "name": "python3"
  }
 },
 "nbformat": 4,
 "nbformat_minor": 4
}
